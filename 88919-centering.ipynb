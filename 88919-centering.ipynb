{
  "nbformat": 4,
  "nbformat_minor": 0,
  "metadata": {
    "colab": {
      "name": "88919.ipynb",
      "provenance": [],
      "authorship_tag": "ABX9TyN0XSXBirexQORUeDzaxsHe",
      "include_colab_link": true
    },
    "kernelspec": {
      "name": "python3",
      "display_name": "Python 3"
    }
  },
  "cells": [
    {
      "cell_type": "markdown",
      "metadata": {
        "id": "view-in-github",
        "colab_type": "text"
      },
      "source": [
        "<a href=\"https://colab.research.google.com/github/bmreiniger/datascience.stackexchange/blob/master/88919-centering.ipynb\" target=\"_parent\"><img src=\"https://colab.research.google.com/assets/colab-badge.svg\" alt=\"Open In Colab\"/></a>"
      ]
    },
    {
      "cell_type": "code",
      "metadata": {
        "id": "qMhSjXdRw0sL"
      },
      "source": [
        "from sklearn.datasets import load_breast_cancer, load_boston\r\n",
        "from sklearn.linear_model import LogisticRegression, Lasso\r\n",
        "from sklearn.svm import SVC, SVR\r\n",
        "from sklearn.preprocessing import StandardScaler\r\n",
        "from sklearn.pipeline import Pipeline\r\n",
        "from sklearn.base import clone\r\n",
        "import numpy as np\r\n",
        "\r\n",
        "just_scale = StandardScaler(with_mean=False)\r\n",
        "center_scale = StandardScaler()\r\n"
      ],
      "execution_count": 1,
      "outputs": []
    },
    {
      "cell_type": "markdown",
      "metadata": {
        "id": "Rm7dINZHZ3ji"
      },
      "source": [
        "# Regression"
      ]
    },
    {
      "cell_type": "code",
      "metadata": {
        "colab": {
          "base_uri": "https://localhost:8080/"
        },
        "id": "HKnm32QQxgMg",
        "outputId": "aceb682f-aaf2-4291-ccb4-b38e5c04eed8"
      },
      "source": [
        "X, y = load_boston(return_X_y=True)\r\n",
        "\r\n",
        "lasso = Lasso()\r\n",
        "svr = SVR(kernel='rbf')\r\n",
        "\r\n",
        "models = [lasso, svr]\r\n",
        "\r\n",
        "for model in models:\r\n",
        "    pipe_sc = Pipeline(steps=[('scale', just_scale), ('model', clone(model))])\r\n",
        "    pipe_sc.fit(X, y)\r\n",
        "    pipe_ce = Pipeline(steps=[('scale', center_scale), ('model', clone(model))])\r\n",
        "    pipe_ce.fit(X, y)\r\n",
        "    if hasattr(pipe_sc['model'], \"coef_\"):\r\n",
        "        print(np.allclose(pipe_sc['model'].coef_, pipe_ce['model'].coef_))\r\n",
        "        print(pipe_sc['model'].intercept_ - pipe_ce['model'].intercept_)\r\n",
        "    else:\r\n",
        "        print(pipe_sc.predict(X[:5,:]), '\\n', pipe_ce.predict(X[:5,:]))\r\n"
      ],
      "execution_count": 2,
      "outputs": [
        {
          "output_type": "stream",
          "text": [
            "True\n",
            "-7.252244903373057\n",
            "[27.02023361 23.42604706 27.38542185 26.78196365 26.53210595] \n",
            " [29.32824737 23.06856722 31.22595594 28.98548025 29.33410188]\n"
          ],
          "name": "stdout"
        }
      ]
    },
    {
      "cell_type": "markdown",
      "metadata": {
        "id": "zyy_ytcUZzMY"
      },
      "source": [
        "#Classification"
      ]
    },
    {
      "cell_type": "code",
      "metadata": {
        "id": "m3pbrMznyHwO",
        "colab": {
          "base_uri": "https://localhost:8080/"
        },
        "outputId": "11f7cf89-3f2b-4e1c-eca8-c8248418114d"
      },
      "source": [
        "X, y = load_breast_cancer(return_X_y=True)\r\n",
        "\r\n",
        "lr1sa = LogisticRegression(penalty='l1', solver='saga', max_iter=5000)\r\n",
        "lr2sa = LogisticRegression(penalty='l2', solver='saga', max_iter=5000)\r\n",
        "lr2lb = LogisticRegression(penalty='l2', solver='lbfgs', max_iter=1000)\r\n",
        "svm = SVC(kernel='rbf')\r\n",
        "\r\n",
        "models = [lr1sa, lr2sa, lr2lb, svm]\r\n",
        "\r\n",
        "for model in models:\r\n",
        "    print('\\n')\r\n",
        "    pipe_sc = Pipeline(steps=[('scale', just_scale), ('model', clone(model))])\r\n",
        "    pipe_sc.fit(X, y)\r\n",
        "    pipe_ce = Pipeline(steps=[('scale', center_scale), ('model', clone(model))])\r\n",
        "    pipe_ce.fit(X, y)\r\n",
        "    if hasattr(pipe_sc['model'], \"coef_\"):\r\n",
        "        print(pipe_sc['model'].coef_, '\\n', pipe_ce['model'].coef_)\r\n",
        "        print(pipe_sc['model'].intercept_ - pipe_ce['model'].intercept_)\r\n",
        "    else:\r\n",
        "        print(pipe_sc.decision_function(X[:5,:]), '\\n', pipe_ce.decision_function(X[:5,:]))\r\n"
      ],
      "execution_count": 3,
      "outputs": [
        {
          "output_type": "stream",
          "text": [
            "\n",
            "\n",
            "[[ 0.32381526  0.          0.          0.          0.          0.\n",
            "  -1.20458806 -2.16261492  0.55825892  2.36189722 -1.86010002  0.25886237\n",
            "   0.         -1.35445068 -0.04304869  0.65946115  0.          0.\n",
            "   0.28310434  0.          0.         -1.33224914  0.         -1.25537231\n",
            "  -0.46286982  0.         -0.48866728 -1.29922543 -1.0311878  -0.73390537]] \n",
            " [[ 0.          0.          0.          0.          0.          0.\n",
            "  -0.10422294 -1.0703742   0.          0.1468828  -2.69794569  0.37726895\n",
            "   0.          0.         -0.32467961  0.89639965  0.          0.\n",
            "   0.          0.22206571 -1.9769822  -1.77076084 -0.59361568 -1.80590488\n",
            "  -0.54123424  0.         -1.12941999 -1.23635839 -0.55090744  0.        ]]\n",
            "[1.53848966]\n",
            "\n",
            "\n",
            "[[ 0.6480783  -0.12072329  0.49661551 -0.46098839  0.20655278 -0.4880405\n",
            "  -1.24847151 -1.60065136  0.57014549  1.97221663 -1.35409498  0.27297413\n",
            "  -0.62022198 -1.21597877 -0.33172009  0.79455495  0.27230935  0.00519954\n",
            "   0.27649354  0.16703611 -0.37044233 -1.12191367 -0.16694208 -1.17433062\n",
            "  -0.41422507 -0.19859795 -0.76166125 -1.11876674 -0.98892819 -0.39595763]] \n",
            " [[-0.37808976 -0.40130866 -0.36415773 -0.4459042  -0.1590651   0.54182861\n",
            "  -0.84421806 -0.94812619  0.07890847  0.32988273 -1.27939454  0.25734488\n",
            "  -0.68141176 -0.99017555 -0.27219492  0.75284445  0.09528013 -0.32375446\n",
            "   0.2954815   0.66487891 -1.01705172 -1.29662807 -0.82028732 -0.99060778\n",
            "  -0.6829793   0.03738    -0.87065583 -0.92252744 -0.89169369 -0.46683276]]\n",
            "[0.84160694]\n",
            "\n",
            "\n",
            "[[-0.36244812 -0.38769655 -0.35088611 -0.43638566 -0.16198471  0.56271402\n",
            "  -0.86015099 -0.96255601  0.07597272  0.32209831 -1.28985568  0.26901422\n",
            "  -0.66015481 -1.01341586 -0.27704446  0.73638289  0.11071048 -0.33317977\n",
            "   0.29590121  0.68038749 -1.02862175 -1.31465278 -0.82329553 -1.01178341\n",
            "  -0.6707969   0.04422921 -0.873276   -0.91168125 -0.88769967 -0.47934185]] \n",
            " [[-0.36317072 -0.38770299 -0.35111444 -0.43555896 -0.16176493  0.56259548\n",
            "  -0.85989759 -0.96222175  0.07616775  0.32218585 -1.29103479  0.26892526\n",
            "  -0.65988685 -1.01250087 -0.27717046  0.7362824   0.11052647 -0.3335099\n",
            "   0.29590225  0.68091528 -1.02936114 -1.31459312 -0.82331706 -1.01059356\n",
            "  -0.67073135  0.04465888 -0.87330064 -0.91195815 -0.88789694 -0.47983137]]\n",
            "[31.78257525]\n",
            "\n",
            "\n",
            "[-2.50170385 -1.80102677 -2.9282455  -1.35758041 -1.71426357] \n",
            " [-0.9997408  -1.87994198 -2.44384225 -0.99983937 -1.4799956 ]\n"
          ],
          "name": "stdout"
        }
      ]
    },
    {
      "cell_type": "code",
      "metadata": {
        "colab": {
          "base_uri": "https://localhost:8080/"
        },
        "id": "c8nMmwiQYdBQ",
        "outputId": "c81de683-b5f6-4581-9e8a-05eb13d7d859"
      },
      "source": [
        "X.mean(axis=0)"
      ],
      "execution_count": 4,
      "outputs": [
        {
          "output_type": "execute_result",
          "data": {
            "text/plain": [
              "array([1.41272917e+01, 1.92896485e+01, 9.19690334e+01, 6.54889104e+02,\n",
              "       9.63602812e-02, 1.04340984e-01, 8.87993158e-02, 4.89191459e-02,\n",
              "       1.81161863e-01, 6.27976098e-02, 4.05172056e-01, 1.21685343e+00,\n",
              "       2.86605923e+00, 4.03370791e+01, 7.04097891e-03, 2.54781388e-02,\n",
              "       3.18937163e-02, 1.17961371e-02, 2.05422988e-02, 3.79490387e-03,\n",
              "       1.62691898e+01, 2.56772232e+01, 1.07261213e+02, 8.80583128e+02,\n",
              "       1.32368594e-01, 2.54265044e-01, 2.72188483e-01, 1.14606223e-01,\n",
              "       2.90075571e-01, 8.39458172e-02])"
            ]
          },
          "metadata": {
            "tags": []
          },
          "execution_count": 4
        }
      ]
    },
    {
      "cell_type": "code",
      "metadata": {
        "id": "MiWquX58Znqh"
      },
      "source": [
        ""
      ],
      "execution_count": 4,
      "outputs": []
    }
  ]
}