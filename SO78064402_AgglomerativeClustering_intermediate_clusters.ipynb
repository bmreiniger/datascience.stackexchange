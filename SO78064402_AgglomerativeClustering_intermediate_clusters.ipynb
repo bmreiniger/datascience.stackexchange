{
  "nbformat": 4,
  "nbformat_minor": 0,
  "metadata": {
    "colab": {
      "provenance": [],
      "authorship_tag": "ABX9TyMkBRjHE9Kv6CVtkvRWWnXT",
      "include_colab_link": true
    },
    "kernelspec": {
      "name": "python3",
      "display_name": "Python 3"
    },
    "language_info": {
      "name": "python"
    }
  },
  "cells": [
    {
      "cell_type": "markdown",
      "metadata": {
        "id": "view-in-github",
        "colab_type": "text"
      },
      "source": [
        "<a href=\"https://colab.research.google.com/github/bmreiniger/datascience.stackexchange/blob/master/SO78064402_AgglomerativeClustering_intermediate_clusters.ipynb\" target=\"_parent\"><img src=\"https://colab.research.google.com/assets/colab-badge.svg\" alt=\"Open In Colab\"/></a>"
      ]
    },
    {
      "cell_type": "code",
      "execution_count": null,
      "metadata": {
        "id": "Trvc4xNYP3Fj"
      },
      "outputs": [],
      "source": [
        "import numpy as np\n",
        "from sklearn.cluster import AgglomerativeClustering\n",
        "from sklearn import metrics\n",
        "from sklearn.datasets import load_iris\n",
        "\n",
        "X, y = load_iris(return_X_y=True, as_frame=True)\n",
        "\n"
      ]
    },
    {
      "cell_type": "code",
      "source": [
        "cont_std_ = {}\n",
        "for k in [2, 3, 4, 5]:\n",
        "    np.random.seed(123456)  # for reproducibility\n",
        "    model = AgglomerativeClustering(linkage='ward', n_clusters=k)\n",
        "    model.fit(X)\n",
        "    cont_std_['AHC_k'+ str(k)] = model.labels_\n",
        "\n",
        "    silhouette_score = metrics.silhouette_score(X, model.labels_, metric='euclidean')\n",
        "    print('silhouette at k=' + str(k) + ': ' + str(silhouette_score))\n",
        "\n",
        "    davies_bouldin_score = metrics.davies_bouldin_score(X, model.labels_)\n",
        "    print(f'davies bouldin at k={k}: {davies_bouldin_score}')\n"
      ],
      "metadata": {
        "colab": {
          "base_uri": "https://localhost:8080/"
        },
        "id": "n0oMf5urQVch",
        "outputId": "6ae6800b-7d01-487c-b423-222ce2b4a1eb"
      },
      "execution_count": null,
      "outputs": [
        {
          "output_type": "stream",
          "name": "stdout",
          "text": [
            "silhouette at k=2: 0.6867350732769781\n",
            "davies bouldin at k=2: 0.38275284210068616\n",
            "silhouette at k=3: 0.5543236611296426\n",
            "davies bouldin at k=3: 0.6562564540642021\n",
            "silhouette at k=4: 0.48896708575546993\n",
            "davies bouldin at k=4: 0.7952637917518272\n",
            "silhouette at k=5: 0.48438258927906036\n",
            "davies bouldin at k=5: 0.8204166609646473\n"
          ]
        }
      ]
    },
    {
      "cell_type": "code",
      "source": [
        "cont_std_"
      ],
      "metadata": {
        "colab": {
          "base_uri": "https://localhost:8080/"
        },
        "id": "sMOBrBQSQVsg",
        "outputId": "ce320d06-7572-4f34-a13b-d52de817a523"
      },
      "execution_count": null,
      "outputs": [
        {
          "output_type": "execute_result",
          "data": {
            "text/plain": [
              "{'AHC_k2': array([1, 1, 1, 1, 1, 1, 1, 1, 1, 1, 1, 1, 1, 1, 1, 1, 1, 1, 1, 1, 1, 1,\n",
              "        1, 1, 1, 1, 1, 1, 1, 1, 1, 1, 1, 1, 1, 1, 1, 1, 1, 1, 1, 1, 1, 1,\n",
              "        1, 1, 1, 1, 1, 1, 0, 0, 0, 0, 0, 0, 0, 0, 0, 0, 0, 0, 0, 0, 0, 0,\n",
              "        0, 0, 0, 0, 0, 0, 0, 0, 0, 0, 0, 0, 0, 0, 0, 0, 0, 0, 0, 0, 0, 0,\n",
              "        0, 0, 0, 0, 0, 0, 0, 0, 0, 0, 0, 0, 0, 0, 0, 0, 0, 0, 0, 0, 0, 0,\n",
              "        0, 0, 0, 0, 0, 0, 0, 0, 0, 0, 0, 0, 0, 0, 0, 0, 0, 0, 0, 0, 0, 0,\n",
              "        0, 0, 0, 0, 0, 0, 0, 0, 0, 0, 0, 0, 0, 0, 0, 0, 0, 0]),\n",
              " 'AHC_k3': array([1, 1, 1, 1, 1, 1, 1, 1, 1, 1, 1, 1, 1, 1, 1, 1, 1, 1, 1, 1, 1, 1,\n",
              "        1, 1, 1, 1, 1, 1, 1, 1, 1, 1, 1, 1, 1, 1, 1, 1, 1, 1, 1, 1, 1, 1,\n",
              "        1, 1, 1, 1, 1, 1, 0, 0, 0, 0, 0, 0, 0, 0, 0, 0, 0, 0, 0, 0, 0, 0,\n",
              "        0, 0, 0, 0, 0, 0, 0, 0, 0, 0, 0, 2, 0, 0, 0, 0, 0, 0, 0, 0, 0, 0,\n",
              "        0, 0, 0, 0, 0, 0, 0, 0, 0, 0, 0, 0, 2, 0, 2, 2, 2, 2, 0, 2, 2, 2,\n",
              "        2, 2, 2, 0, 0, 2, 2, 2, 2, 0, 2, 0, 2, 0, 2, 2, 0, 0, 2, 2, 2, 2,\n",
              "        2, 0, 0, 2, 2, 2, 0, 2, 2, 2, 0, 2, 2, 2, 0, 2, 2, 0]),\n",
              " 'AHC_k4': array([1, 1, 1, 1, 1, 1, 1, 1, 1, 1, 1, 1, 1, 1, 1, 1, 1, 1, 1, 1, 1, 1,\n",
              "        1, 1, 1, 1, 1, 1, 1, 1, 1, 1, 1, 1, 1, 1, 1, 1, 1, 1, 1, 1, 1, 1,\n",
              "        1, 1, 1, 1, 1, 1, 2, 2, 2, 3, 2, 3, 2, 3, 2, 3, 3, 2, 3, 2, 3, 2,\n",
              "        3, 3, 2, 3, 2, 2, 2, 2, 2, 2, 2, 0, 2, 3, 3, 3, 3, 2, 3, 2, 2, 2,\n",
              "        3, 3, 3, 2, 3, 3, 3, 3, 3, 2, 3, 3, 0, 2, 0, 0, 0, 0, 3, 0, 0, 0,\n",
              "        0, 0, 0, 2, 2, 0, 0, 0, 0, 2, 0, 2, 0, 2, 0, 0, 2, 2, 0, 0, 0, 0,\n",
              "        0, 2, 2, 0, 0, 0, 2, 0, 0, 0, 2, 0, 0, 0, 2, 0, 0, 2]),\n",
              " 'AHC_k5': array([0, 0, 0, 0, 0, 0, 0, 0, 0, 0, 0, 0, 0, 0, 0, 0, 0, 0, 0, 0, 0, 0,\n",
              "        0, 0, 0, 0, 0, 0, 0, 0, 0, 0, 0, 0, 0, 0, 0, 0, 0, 0, 0, 0, 0, 0,\n",
              "        0, 0, 0, 0, 0, 0, 2, 2, 2, 1, 2, 1, 2, 1, 2, 1, 1, 2, 1, 2, 1, 2,\n",
              "        1, 1, 2, 1, 2, 2, 2, 2, 2, 2, 2, 4, 2, 1, 1, 1, 1, 2, 1, 2, 2, 2,\n",
              "        1, 1, 1, 2, 1, 1, 1, 1, 1, 2, 1, 1, 4, 2, 3, 4, 4, 3, 1, 3, 4, 3,\n",
              "        4, 4, 4, 2, 2, 4, 4, 3, 3, 2, 4, 2, 3, 2, 4, 3, 2, 2, 4, 3, 3, 3,\n",
              "        4, 2, 2, 3, 4, 4, 2, 4, 4, 4, 2, 4, 4, 4, 2, 4, 4, 2])}"
            ]
          },
          "metadata": {},
          "execution_count": 3
        }
      ]
    },
    {
      "cell_type": "code",
      "source": [
        "model.children_.shape"
      ],
      "metadata": {
        "colab": {
          "base_uri": "https://localhost:8080/"
        },
        "id": "dJsdBgfwQobw",
        "outputId": "9624cfbe-c34f-4255-a67b-5d57ce669d5d"
      },
      "execution_count": null,
      "outputs": [
        {
          "output_type": "execute_result",
          "data": {
            "text/plain": [
              "(149, 2)"
            ]
          },
          "metadata": {},
          "execution_count": 4
        }
      ]
    },
    {
      "cell_type": "code",
      "source": [
        "len(model.children_[:-5])"
      ],
      "metadata": {
        "colab": {
          "base_uri": "https://localhost:8080/"
        },
        "id": "0SLNBZ05U4_G",
        "outputId": "93664663-5c91-4b6e-f7b8-da3a2dd5cd1b"
      },
      "execution_count": null,
      "outputs": [
        {
          "output_type": "execute_result",
          "data": {
            "text/plain": [
              "144"
            ]
          },
          "metadata": {},
          "execution_count": 5
        }
      ]
    },
    {
      "cell_type": "code",
      "source": [
        "model.children_[:5, :]"
      ],
      "metadata": {
        "colab": {
          "base_uri": "https://localhost:8080/"
        },
        "id": "E2zOsh7-VFV0",
        "outputId": "6cba545c-2784-44c9-aad8-4fe78485df18"
      },
      "execution_count": null,
      "outputs": [
        {
          "output_type": "execute_result",
          "data": {
            "text/plain": [
              "array([[101, 142],\n",
              "       [  7,  39],\n",
              "       [  0,  17],\n",
              "       [  9,  34],\n",
              "       [128, 132]])"
            ]
          },
          "metadata": {},
          "execution_count": 6
        }
      ]
    },
    {
      "cell_type": "code",
      "source": [
        "model = AgglomerativeClustering(linkage='ward', n_clusters=k)\n",
        "model.fit(X)"
      ],
      "metadata": {
        "colab": {
          "base_uri": "https://localhost:8080/",
          "height": 75
        },
        "id": "5TP8fSJCxWE1",
        "outputId": "216ce024-24d1-480f-a77f-e82c81e66ba5"
      },
      "execution_count": null,
      "outputs": [
        {
          "output_type": "execute_result",
          "data": {
            "text/plain": [
              "AgglomerativeClustering(n_clusters=5)"
            ],
            "text/html": [
              "<style>#sk-container-id-1 {color: black;background-color: white;}#sk-container-id-1 pre{padding: 0;}#sk-container-id-1 div.sk-toggleable {background-color: white;}#sk-container-id-1 label.sk-toggleable__label {cursor: pointer;display: block;width: 100%;margin-bottom: 0;padding: 0.3em;box-sizing: border-box;text-align: center;}#sk-container-id-1 label.sk-toggleable__label-arrow:before {content: \"▸\";float: left;margin-right: 0.25em;color: #696969;}#sk-container-id-1 label.sk-toggleable__label-arrow:hover:before {color: black;}#sk-container-id-1 div.sk-estimator:hover label.sk-toggleable__label-arrow:before {color: black;}#sk-container-id-1 div.sk-toggleable__content {max-height: 0;max-width: 0;overflow: hidden;text-align: left;background-color: #f0f8ff;}#sk-container-id-1 div.sk-toggleable__content pre {margin: 0.2em;color: black;border-radius: 0.25em;background-color: #f0f8ff;}#sk-container-id-1 input.sk-toggleable__control:checked~div.sk-toggleable__content {max-height: 200px;max-width: 100%;overflow: auto;}#sk-container-id-1 input.sk-toggleable__control:checked~label.sk-toggleable__label-arrow:before {content: \"▾\";}#sk-container-id-1 div.sk-estimator input.sk-toggleable__control:checked~label.sk-toggleable__label {background-color: #d4ebff;}#sk-container-id-1 div.sk-label input.sk-toggleable__control:checked~label.sk-toggleable__label {background-color: #d4ebff;}#sk-container-id-1 input.sk-hidden--visually {border: 0;clip: rect(1px 1px 1px 1px);clip: rect(1px, 1px, 1px, 1px);height: 1px;margin: -1px;overflow: hidden;padding: 0;position: absolute;width: 1px;}#sk-container-id-1 div.sk-estimator {font-family: monospace;background-color: #f0f8ff;border: 1px dotted black;border-radius: 0.25em;box-sizing: border-box;margin-bottom: 0.5em;}#sk-container-id-1 div.sk-estimator:hover {background-color: #d4ebff;}#sk-container-id-1 div.sk-parallel-item::after {content: \"\";width: 100%;border-bottom: 1px solid gray;flex-grow: 1;}#sk-container-id-1 div.sk-label:hover label.sk-toggleable__label {background-color: #d4ebff;}#sk-container-id-1 div.sk-serial::before {content: \"\";position: absolute;border-left: 1px solid gray;box-sizing: border-box;top: 0;bottom: 0;left: 50%;z-index: 0;}#sk-container-id-1 div.sk-serial {display: flex;flex-direction: column;align-items: center;background-color: white;padding-right: 0.2em;padding-left: 0.2em;position: relative;}#sk-container-id-1 div.sk-item {position: relative;z-index: 1;}#sk-container-id-1 div.sk-parallel {display: flex;align-items: stretch;justify-content: center;background-color: white;position: relative;}#sk-container-id-1 div.sk-item::before, #sk-container-id-1 div.sk-parallel-item::before {content: \"\";position: absolute;border-left: 1px solid gray;box-sizing: border-box;top: 0;bottom: 0;left: 50%;z-index: -1;}#sk-container-id-1 div.sk-parallel-item {display: flex;flex-direction: column;z-index: 1;position: relative;background-color: white;}#sk-container-id-1 div.sk-parallel-item:first-child::after {align-self: flex-end;width: 50%;}#sk-container-id-1 div.sk-parallel-item:last-child::after {align-self: flex-start;width: 50%;}#sk-container-id-1 div.sk-parallel-item:only-child::after {width: 0;}#sk-container-id-1 div.sk-dashed-wrapped {border: 1px dashed gray;margin: 0 0.4em 0.5em 0.4em;box-sizing: border-box;padding-bottom: 0.4em;background-color: white;}#sk-container-id-1 div.sk-label label {font-family: monospace;font-weight: bold;display: inline-block;line-height: 1.2em;}#sk-container-id-1 div.sk-label-container {text-align: center;}#sk-container-id-1 div.sk-container {/* jupyter's `normalize.less` sets `[hidden] { display: none; }` but bootstrap.min.css set `[hidden] { display: none !important; }` so we also need the `!important` here to be able to override the default hidden behavior on the sphinx rendered scikit-learn.org. See: https://github.com/scikit-learn/scikit-learn/issues/21755 */display: inline-block !important;position: relative;}#sk-container-id-1 div.sk-text-repr-fallback {display: none;}</style><div id=\"sk-container-id-1\" class=\"sk-top-container\"><div class=\"sk-text-repr-fallback\"><pre>AgglomerativeClustering(n_clusters=5)</pre><b>In a Jupyter environment, please rerun this cell to show the HTML representation or trust the notebook. <br />On GitHub, the HTML representation is unable to render, please try loading this page with nbviewer.org.</b></div><div class=\"sk-container\" hidden><div class=\"sk-item\"><div class=\"sk-estimator sk-toggleable\"><input class=\"sk-toggleable__control sk-hidden--visually\" id=\"sk-estimator-id-1\" type=\"checkbox\" checked><label for=\"sk-estimator-id-1\" class=\"sk-toggleable__label sk-toggleable__label-arrow\">AgglomerativeClustering</label><div class=\"sk-toggleable__content\"><pre>AgglomerativeClustering(n_clusters=5)</pre></div></div></div></div></div>"
            ]
          },
          "metadata": {},
          "execution_count": 8
        }
      ]
    },
    {
      "cell_type": "code",
      "source": [
        "nodes = [[i] for i in range(len(X))]\n",
        "merged_at_stage = -np.ones(len(X) + len(model.children_), dtype=int)\n",
        "for i, merge in enumerate(model.children_):\n",
        "    a, b = merge\n",
        "    nodes.append(nodes[a] + nodes[b])\n",
        "    merged_at_stage[a] = i\n",
        "    merged_at_stage[b] = i"
      ],
      "metadata": {
        "id": "FW6oqW3BQ8ZV"
      },
      "execution_count": null,
      "outputs": []
    },
    {
      "cell_type": "code",
      "source": [
        "merged_at_stage"
      ],
      "metadata": {
        "colab": {
          "base_uri": "https://localhost:8080/"
        },
        "id": "-VyshnBOVlsT",
        "outputId": "f36ece64-fcba-4e68-982b-1e100cb6c96e"
      },
      "execution_count": null,
      "outputs": [
        {
          "output_type": "execute_result",
          "data": {
            "text/plain": [
              "array([  2,  18,  34,  13,   6,  64,  57,   1,  12,   3,   5,  52,  26,\n",
              "        65,  97,  97,  84,   2,  64,   7,  51,   7, 120,  29,  82,  32,\n",
              "        29,  14,  14,   8,   8,  51,  67,  67,   3,  85,  74,   6,  12,\n",
              "         1,  21, 127,  55,  43,  89,  18,  33,  13,   5,  23,  45,  46,\n",
              "        45,  30,  40,  59,  46,   9,  40, 104, 102,  77, 107,  19,  86,\n",
              "        20,  28,  53,  44,  39,  54,  77,  79,  70,  31,  20,  75,  88,\n",
              "        38,  86,  10,  10,  15,  63,  28,  87,  61,  44,  27,  30,  59,\n",
              "        19,  15,   9,  25,  16,  16,  31,  83,  25, 110,   0,  92,  49,\n",
              "        69,  48, 129,  47, 111, 116,  35,  90,  24,  56, 101,  76,  11,\n",
              "        80,  96, 109,  36,  73,  48,  22,  62,  68,  22,  17,   4,  68,\n",
              "        47,  80,   4,  63, 124, 116,  37,  11,  17,  24,  41,  42,   0,\n",
              "        36,  41,  42,  72,  35,  37,  71,  56,  23,  21,  32,  69,  74,\n",
              "        78,  33,  52,  83,  39,  49,  55,  34,  50,  53,  27,  54,  26,\n",
              "        38,  95,  50,  72,  58,  93,  66,  60,  66,  98,  43,  91,  94,\n",
              "        60,  89,  57,  88,  62,  76,  70,  91,  75,  81,  93, 115, 109,\n",
              "        61,  87, 106,  96,  90,  58, 100,  82, 107,  71,  65,  73, 105,\n",
              "        78,  98,  85, 113,  81,  79, 108, 120, 112, 103,  92, 111, 121,\n",
              "       125,  99, 101,  84,  95, 110,  94, 122,  99, 128, 126, 105, 102,\n",
              "       100, 117, 119, 125, 118, 115, 114, 104, 106, 118, 121, 113, 135,\n",
              "       103, 112, 124, 108, 136, 142, 130, 119, 117, 138, 123, 130, 131,\n",
              "       126, 114, 129, 141, 133, 122, 128, 132, 133, 123, 127, 134, 140,\n",
              "       139, 131, 134, 137, 132, 135, 139, 140, 136, 144, 137, 141, 138,\n",
              "       143, 145, 145, 142, 144, 143, 146, 146, 148, 147, 147, 148,  -1])"
            ]
          },
          "metadata": {},
          "execution_count": 10
        }
      ]
    },
    {
      "cell_type": "code",
      "source": [
        "len(merged_at_stage), len(X)+len(model.children_)"
      ],
      "metadata": {
        "colab": {
          "base_uri": "https://localhost:8080/"
        },
        "id": "71_7CWvyMt40",
        "outputId": "2880a2d2-6632-4177-d776-d11c607d58f4"
      },
      "execution_count": null,
      "outputs": [
        {
          "output_type": "execute_result",
          "data": {
            "text/plain": [
              "(299, 299)"
            ]
          },
          "metadata": {},
          "execution_count": 11
        }
      ]
    },
    {
      "cell_type": "code",
      "source": [
        "N_CLUSTERS = 5\n",
        "final_nodes = [\n",
        "    nodes[i]\n",
        "    for i, x in enumerate(merged_at_stage)\n",
        "    if (\n",
        "        x >= len(X) - N_CLUSTERS  # the node hasn't already been merged with another\n",
        "        and i <= len(X) + len(model.children_) - N_CLUSTERS  # the node has already been created\n",
        "    )\n",
        "]\n",
        "len(final_nodes)"
      ],
      "metadata": {
        "colab": {
          "base_uri": "https://localhost:8080/"
        },
        "id": "rxtICXEZ0D7-",
        "outputId": "c8fb3ff4-547f-4271-9aae-793c0bf80de0"
      },
      "execution_count": null,
      "outputs": [
        {
          "output_type": "execute_result",
          "data": {
            "text/plain": [
              "5"
            ]
          },
          "metadata": {},
          "execution_count": 18
        }
      ]
    },
    {
      "cell_type": "code",
      "source": [
        "sum(len(node) for node in final_nodes)"
      ],
      "metadata": {
        "colab": {
          "base_uri": "https://localhost:8080/"
        },
        "id": "-8LXLu2nLnub",
        "outputId": "7831c48e-c1b1-402b-d626-550e0001e000"
      },
      "execution_count": null,
      "outputs": [
        {
          "output_type": "execute_result",
          "data": {
            "text/plain": [
              "150"
            ]
          },
          "metadata": {},
          "execution_count": 19
        }
      ]
    },
    {
      "cell_type": "code",
      "source": [
        "for node in final_nodes:\n",
        "  print(y[node].values)"
      ],
      "metadata": {
        "colab": {
          "base_uri": "https://localhost:8080/"
        },
        "id": "l6-9DEC_S50x",
        "outputId": "072acef6-b3a6-4e98-c3d1-d1b62cdcc07c"
      },
      "execution_count": null,
      "outputs": [
        {
          "output_type": "stream",
          "name": "stdout",
          "text": [
            "[2 2 2 2 2 2 2 2 2 2 2 2 2 2 2 2 2 1 2 2 2 2 2 2]\n",
            "[2 2 2 2 2 2 2 2 2 2 2 2]\n",
            "[1 1 1 1 1 1 1 1 1 1 1 1 1 1 1 1 2 1 1 1 1 1 1 1 1 1]\n",
            "[2 2 2 2 2 2 1 1 2 2 2 2 1 1 2 1 1 1 1 1 1 1 1 1 1 1 1 1 1 1 1 2 1 2 2 1 1\n",
            " 1]\n",
            "[0 0 0 0 0 0 0 0 0 0 0 0 0 0 0 0 0 0 0 0 0 0 0 0 0 0 0 0 0 0 0 0 0 0 0 0 0\n",
            " 0 0 0 0 0 0 0 0 0 0 0 0 0]\n"
          ]
        }
      ]
    },
    {
      "cell_type": "code",
      "source": [
        "import pandas as pd\n",
        "y_pred = pd.Series([-1] * len(X))\n",
        "for i, cluster in enumerate(final_nodes):\n",
        "    y_pred[cluster] = i\n",
        "y_pred"
      ],
      "metadata": {
        "id": "m47Eqo0pKxlS",
        "colab": {
          "base_uri": "https://localhost:8080/"
        },
        "outputId": "c2d7bfc2-1594-421d-bcc6-09456a0b2f7d"
      },
      "execution_count": null,
      "outputs": [
        {
          "output_type": "execute_result",
          "data": {
            "text/plain": [
              "0      4\n",
              "1      4\n",
              "2      4\n",
              "3      4\n",
              "4      4\n",
              "      ..\n",
              "145    0\n",
              "146    3\n",
              "147    0\n",
              "148    0\n",
              "149    3\n",
              "Length: 150, dtype: int64"
            ]
          },
          "metadata": {},
          "execution_count": 24
        }
      ]
    },
    {
      "cell_type": "code",
      "source": [
        "y_pred.value_counts()"
      ],
      "metadata": {
        "colab": {
          "base_uri": "https://localhost:8080/"
        },
        "id": "C8EweOZhjgH2",
        "outputId": "290645fa-2779-48a1-a98c-3fcab6a06e76"
      },
      "execution_count": null,
      "outputs": [
        {
          "output_type": "execute_result",
          "data": {
            "text/plain": [
              "4    50\n",
              "3    38\n",
              "2    26\n",
              "0    24\n",
              "1    12\n",
              "dtype: int64"
            ]
          },
          "metadata": {},
          "execution_count": 25
        }
      ]
    },
    {
      "cell_type": "code",
      "source": [
        "from sklearn.metrics import silhouette_score\n",
        "silhouette_score(X, y_pred)"
      ],
      "metadata": {
        "colab": {
          "base_uri": "https://localhost:8080/"
        },
        "id": "4XZLtDPZjOeq",
        "outputId": "1f4a7d1e-1232-44a2-f452-c6bea9e7eb2b"
      },
      "execution_count": null,
      "outputs": [
        {
          "output_type": "execute_result",
          "data": {
            "text/plain": [
              "0.48438258927906036"
            ]
          },
          "metadata": {},
          "execution_count": 26
        }
      ]
    },
    {
      "cell_type": "code",
      "source": [],
      "metadata": {
        "id": "1M4omuGCjc5q"
      },
      "execution_count": null,
      "outputs": []
    }
  ]
}