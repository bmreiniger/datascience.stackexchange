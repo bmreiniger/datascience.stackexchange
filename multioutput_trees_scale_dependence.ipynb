{
  "nbformat": 4,
  "nbformat_minor": 0,
  "metadata": {
    "colab": {
      "name": "multioutput_trees-scale_dependence.ipynb",
      "provenance": [],
      "authorship_tag": "ABX9TyPj1Yb0XLwu7Il3xfz2i+K2",
      "include_colab_link": true
    },
    "kernelspec": {
      "name": "python3",
      "display_name": "Python 3"
    },
    "language_info": {
      "name": "python"
    }
  },
  "cells": [
    {
      "cell_type": "markdown",
      "metadata": {
        "id": "view-in-github",
        "colab_type": "text"
      },
      "source": [
        "<a href=\"https://colab.research.google.com/github/bmreiniger/datascience.stackexchange/blob/master/multioutput_trees_scale_dependence.ipynb\" target=\"_parent\"><img src=\"https://colab.research.google.com/assets/colab-badge.svg\" alt=\"Open In Colab\"/></a>"
      ]
    },
    {
      "cell_type": "code",
      "execution_count": 1,
      "metadata": {
        "id": "LevkTPkLjkOM"
      },
      "outputs": [],
      "source": [
        "from sklearn.tree import DecisionTreeRegressor\n",
        "from sklearn.model_selection import train_test_split\n",
        "from sklearn.metrics import mean_squared_error\n",
        "import numpy as np\n"
      ]
    },
    {
      "cell_type": "code",
      "source": [
        "np.random.seed(42)\n",
        "X = np.random.random_sample((1000, 4))\n",
        "y1 = X[:, 0] + 3*X[:, 1] - 4*X[:, 3]\n",
        "y2 = 2*X[:, 0] - 2*X[:, 2] + X[:, 3]\n",
        "y = np.vstack((y1, y2)).T\n",
        "y_sc = y.copy()\n",
        "y_sc[:, 1] *= 100\n"
      ],
      "metadata": {
        "id": "Tw7s2NygjsZl"
      },
      "execution_count": 2,
      "outputs": []
    },
    {
      "cell_type": "code",
      "source": [
        "X_train, X_test, y_train, y_test = train_test_split(X, y, random_state=314)\n",
        "tree = DecisionTreeRegressor(random_state=42)\n",
        "tree.fit(X_train, y_train)\n",
        "preds = tree.predict(X_test)\n",
        "mean_squared_error(y_test, preds, multioutput=\"raw_values\")"
      ],
      "metadata": {
        "colab": {
          "base_uri": "https://localhost:8080/"
        },
        "id": "UTpBgf82j5QR",
        "outputId": "d995ad1f-dea6-46b5-b3ec-759c0a5de21b"
      },
      "execution_count": 3,
      "outputs": [
        {
          "output_type": "execute_result",
          "data": {
            "text/plain": [
              "array([0.1728589 , 0.15352222])"
            ]
          },
          "metadata": {},
          "execution_count": 3
        }
      ]
    },
    {
      "cell_type": "code",
      "source": [
        "X_train, X_test, y_train, y_test = train_test_split(X, y_sc, random_state=314)\n",
        "tree = DecisionTreeRegressor(random_state=42)\n",
        "tree.fit(X_train, y_train)\n",
        "preds = tree.predict(X_test)\n",
        "mean_squared_error(y_test, preds, multioutput=\"raw_values\")"
      ],
      "metadata": {
        "colab": {
          "base_uri": "https://localhost:8080/"
        },
        "id": "HPEF-BeBkccy",
        "outputId": "6a1b27d5-2b1e-4575-d080-a3c358b20ad3"
      },
      "execution_count": 4,
      "outputs": [
        {
          "output_type": "execute_result",
          "data": {
            "text/plain": [
              "array([  1.22318138, 449.51594586])"
            ]
          },
          "metadata": {},
          "execution_count": 4
        }
      ]
    },
    {
      "cell_type": "code",
      "source": [
        ""
      ],
      "metadata": {
        "id": "gNr9L0lolO5z"
      },
      "execution_count": 4,
      "outputs": []
    }
  ]
}