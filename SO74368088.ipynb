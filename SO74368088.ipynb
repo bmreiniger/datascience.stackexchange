{
  "nbformat": 4,
  "nbformat_minor": 0,
  "metadata": {
    "colab": {
      "provenance": [],
      "authorship_tag": "ABX9TyNxjefJ/ew3QU2wDrpAIfRm",
      "include_colab_link": true
    },
    "kernelspec": {
      "name": "python3",
      "display_name": "Python 3"
    },
    "language_info": {
      "name": "python"
    }
  },
  "cells": [
    {
      "cell_type": "markdown",
      "metadata": {
        "id": "view-in-github",
        "colab_type": "text"
      },
      "source": [
        "<a href=\"https://colab.research.google.com/github/bmreiniger/datascience.stackexchange/blob/master/SO74368088.ipynb\" target=\"_parent\"><img src=\"https://colab.research.google.com/assets/colab-badge.svg\" alt=\"Open In Colab\"/></a>"
      ]
    },
    {
      "cell_type": "code",
      "execution_count": 1,
      "metadata": {
        "id": "7YHVstMqSBsw"
      },
      "outputs": [],
      "source": [
        "from sklearn.datasets import load_iris\n",
        "from sklearn.preprocessing import PolynomialFeatures\n",
        "from sklearn.linear_model import LogisticRegression\n"
      ]
    },
    {
      "cell_type": "code",
      "source": [
        "X, y = load_iris(return_X_y=True, as_frame=True)\n",
        "y = (y-1).abs()  # merge two of the classes"
      ],
      "metadata": {
        "colab": {
          "base_uri": "https://localhost:8080/"
        },
        "id": "wWwhFz5zSdsV",
        "outputId": "77fe989b-00d9-4fed-d642-fe6ad6a0156f"
      },
      "execution_count": 3,
      "outputs": [
        {
          "output_type": "execute_result",
          "data": {
            "text/plain": [
              "0      1\n",
              "1      1\n",
              "2      1\n",
              "3      1\n",
              "4      1\n",
              "      ..\n",
              "145    1\n",
              "146    1\n",
              "147    1\n",
              "148    1\n",
              "149    1\n",
              "Name: target, Length: 150, dtype: int64"
            ]
          },
          "metadata": {},
          "execution_count": 3
        }
      ]
    },
    {
      "cell_type": "code",
      "source": [
        "poly = PolynomialFeatures(degree=2, include_bias=False, interaction_only=True)\n",
        "data = poly.fit_transform(X)\n",
        "\n",
        "model = LogisticRegression(max_iter=1000)\n",
        "model.fit(data, y)"
      ],
      "metadata": {
        "colab": {
          "base_uri": "https://localhost:8080/"
        },
        "id": "EUw2dIKNSUwy",
        "outputId": "aa404daa-0396-478c-d115-3e86958063a3"
      },
      "execution_count": 6,
      "outputs": [
        {
          "output_type": "execute_result",
          "data": {
            "text/plain": [
              "LogisticRegression(max_iter=1000)"
            ]
          },
          "metadata": {},
          "execution_count": 6
        }
      ]
    },
    {
      "cell_type": "code",
      "source": [
        "model.coef_"
      ],
      "metadata": {
        "colab": {
          "base_uri": "https://localhost:8080/"
        },
        "id": "hR-ER8mnSsh1",
        "outputId": "a10e295f-e073-405e-9f4e-87624c5ec81d"
      },
      "execution_count": 7,
      "outputs": [
        {
          "output_type": "execute_result",
          "data": {
            "text/plain": [
              "array([[-0.76509876,  0.53798698, -0.84385225, -0.51803713,  0.89746492,\n",
              "        -0.05497987, -1.1971095 , -1.1948915 , -1.19796975,  3.56241777]])"
            ]
          },
          "metadata": {},
          "execution_count": 7
        }
      ]
    },
    {
      "cell_type": "code",
      "source": [
        "poly.get_feature_names_out()"
      ],
      "metadata": {
        "colab": {
          "base_uri": "https://localhost:8080/"
        },
        "id": "laP3F9cQSyT9",
        "outputId": "1fb3b7d7-ffd5-49c8-a44f-43e8aeb94572"
      },
      "execution_count": 10,
      "outputs": [
        {
          "output_type": "execute_result",
          "data": {
            "text/plain": [
              "array(['sepal length (cm)', 'sepal width (cm)', 'petal length (cm)',\n",
              "       'petal width (cm)', 'sepal length (cm) sepal width (cm)',\n",
              "       'sepal length (cm) petal length (cm)',\n",
              "       'sepal length (cm) petal width (cm)',\n",
              "       'sepal width (cm) petal length (cm)',\n",
              "       'sepal width (cm) petal width (cm)',\n",
              "       'petal length (cm) petal width (cm)'], dtype=object)"
            ]
          },
          "metadata": {},
          "execution_count": 10
        }
      ]
    },
    {
      "cell_type": "code",
      "source": [
        "coef_dict = dict(zip(poly.get_feature_names_out(), model.coef_[0]))\n",
        "coef_dict"
      ],
      "metadata": {
        "colab": {
          "base_uri": "https://localhost:8080/"
        },
        "id": "VkCO4OHHUXr7",
        "outputId": "299096dc-2b6a-43b2-f873-3358b6411a2c"
      },
      "execution_count": 12,
      "outputs": [
        {
          "output_type": "execute_result",
          "data": {
            "text/plain": [
              "{'sepal length (cm)': -0.7650987605736297,\n",
              " 'sepal width (cm)': 0.5379869753284352,\n",
              " 'petal length (cm)': -0.8438522517389212,\n",
              " 'petal width (cm)': -0.5180371295996715,\n",
              " 'sepal length (cm) sepal width (cm)': 0.8974649223228851,\n",
              " 'sepal length (cm) petal length (cm)': -0.054979873592987165,\n",
              " 'sepal length (cm) petal width (cm)': -1.1971094965881943,\n",
              " 'sepal width (cm) petal length (cm)': -1.1948914989424668,\n",
              " 'sepal width (cm) petal width (cm)': -1.1979697475044528,\n",
              " 'petal length (cm) petal width (cm)': 3.562417768058288}"
            ]
          },
          "metadata": {},
          "execution_count": 12
        }
      ]
    },
    {
      "cell_type": "code",
      "source": [
        "sepal_vars = X.columns[:2]\n",
        "petal_vars = X.columns[2:]\n",
        "sepal_vars, petal_vars"
      ],
      "metadata": {
        "colab": {
          "base_uri": "https://localhost:8080/"
        },
        "id": "Gw7JPs40SzbV",
        "outputId": "b6194f00-2586-4a42-b46b-4ca968b08e29"
      },
      "execution_count": 11,
      "outputs": [
        {
          "output_type": "execute_result",
          "data": {
            "text/plain": [
              "(Index(['sepal length (cm)', 'sepal width (cm)'], dtype='object'),\n",
              " Index(['petal length (cm)', 'petal width (cm)'], dtype='object'))"
            ]
          },
          "metadata": {},
          "execution_count": 11
        }
      ]
    },
    {
      "cell_type": "code",
      "source": [
        "cross_terms = [f\"{a} {b}\" for a in sepal_vars for b in petal_vars]  # itertools might be better, esp. if you had more groups\n",
        "{key: coef_dict[key] for key in cross_terms}"
      ],
      "metadata": {
        "colab": {
          "base_uri": "https://localhost:8080/"
        },
        "id": "xYDXT2TBS2HW",
        "outputId": "20f6b100-10f6-41e0-c9ec-7ce55a33a61c"
      },
      "execution_count": 14,
      "outputs": [
        {
          "output_type": "execute_result",
          "data": {
            "text/plain": [
              "{'sepal length (cm) petal length (cm)': -0.054979873592987165,\n",
              " 'sepal length (cm) petal width (cm)': -1.1971094965881943,\n",
              " 'sepal width (cm) petal length (cm)': -1.1948914989424668,\n",
              " 'sepal width (cm) petal width (cm)': -1.1979697475044528}"
            ]
          },
          "metadata": {},
          "execution_count": 14
        }
      ]
    },
    {
      "cell_type": "code",
      "source": [],
      "metadata": {
        "id": "Smz-IqWBUh_9"
      },
      "execution_count": null,
      "outputs": []
    }
  ]
}