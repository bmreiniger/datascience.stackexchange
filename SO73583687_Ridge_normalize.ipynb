{
  "nbformat": 4,
  "nbformat_minor": 0,
  "metadata": {
    "colab": {
      "provenance": [],
      "authorship_tag": "ABX9TyPiTq1U0hkP+FIgElknXGqX",
      "include_colab_link": true
    },
    "kernelspec": {
      "name": "python3",
      "display_name": "Python 3"
    },
    "language_info": {
      "name": "python"
    }
  },
  "cells": [
    {
      "cell_type": "markdown",
      "metadata": {
        "id": "view-in-github",
        "colab_type": "text"
      },
      "source": [
        "<a href=\"https://colab.research.google.com/github/bmreiniger/datascience.stackexchange/blob/master/SO73583687_Ridge_normalize.ipynb\" target=\"_parent\"><img src=\"https://colab.research.google.com/assets/colab-badge.svg\" alt=\"Open In Colab\"/></a>"
      ]
    },
    {
      "cell_type": "code",
      "execution_count": 1,
      "metadata": {
        "id": "J3s_CqyEB0zc"
      },
      "outputs": [],
      "source": [
        "from sklearn.pipeline import make_pipeline\n",
        "from sklearn.preprocessing import StandardScaler\n",
        "from sklearn.linear_model import Ridge\n",
        "from sklearn.datasets import load_diabetes\n",
        "import pandas as pd\n",
        "\n",
        "# X, y = load_diabetes(return_X_y=True, as_frame=True)\n",
        "\n",
        "data = pd.read_csv('https://drive.google.com/uc?id=1ukCv-bdsggTOLTFQqel4TCmoT1C06DFz', index_col=0)\n",
        "X = data.iloc[:,:15]\n",
        "y = data['target']\n"
      ]
    },
    {
      "cell_type": "code",
      "source": [
        "data.head()"
      ],
      "metadata": {
        "colab": {
          "base_uri": "https://localhost:8080/",
          "height": 206
        },
        "id": "TvvOMGHzjFDF",
        "outputId": "fa5d30a5-25bb-4914-b497-9c027831d568"
      },
      "execution_count": 2,
      "outputs": [
        {
          "output_type": "execute_result",
          "data": {
            "text/plain": [
              "   power_1   power_2     power_3       power_4       power_5       power_6  \\\n",
              "0    290.0   84100.0  24389000.0  7.072810e+09  2.051115e+12  5.948233e+14   \n",
              "1    370.0  136900.0  50653000.0  1.874161e+10  6.934396e+12  2.565726e+15   \n",
              "2    380.0  144400.0  54872000.0  2.085136e+10  7.923517e+12  3.010936e+15   \n",
              "3    384.0  147456.0  56623104.0  2.174327e+10  8.349416e+12  3.206176e+15   \n",
              "4    390.0  152100.0  59319000.0  2.313441e+10  9.022420e+12  3.518744e+15   \n",
              "\n",
              "        power_7       power_8       power_9      power_10      power_11  \\\n",
              "0  1.724988e+17  5.002464e+19  1.450715e+22  4.207072e+24  1.220051e+27   \n",
              "1  9.493188e+17  3.512479e+20  1.299617e+23  4.808584e+25  1.779176e+28   \n",
              "2  1.144156e+18  4.347792e+20  1.652161e+23  6.278212e+25  2.385721e+28   \n",
              "3  1.231172e+18  4.727699e+20  1.815436e+23  6.971275e+25  2.676970e+28   \n",
              "4  1.372310e+18  5.352009e+20  2.087284e+23  8.140406e+25  3.174758e+28   \n",
              "\n",
              "       power_12      power_13      power_14      power_15    target  \n",
              "0  3.538148e+29  1.026063e+32  2.975582e+34  8.629189e+36  221900.0  \n",
              "1  6.582952e+30  2.435692e+33  9.012061e+35  3.334463e+38  538000.0  \n",
              "2  9.065738e+30  3.444980e+33  1.309093e+36  4.974552e+38  180000.0  \n",
              "3  1.027956e+31  3.947353e+33  1.515783e+36  5.820608e+38  604000.0  \n",
              "4  1.238156e+31  4.828807e+33  1.883235e+36  7.344616e+38  510000.0  "
            ],
            "text/html": [
              "\n",
              "  <div id=\"df-7169095d-d992-46f7-8ea2-8884c7b73ccf\">\n",
              "    <div class=\"colab-df-container\">\n",
              "      <div>\n",
              "<style scoped>\n",
              "    .dataframe tbody tr th:only-of-type {\n",
              "        vertical-align: middle;\n",
              "    }\n",
              "\n",
              "    .dataframe tbody tr th {\n",
              "        vertical-align: top;\n",
              "    }\n",
              "\n",
              "    .dataframe thead th {\n",
              "        text-align: right;\n",
              "    }\n",
              "</style>\n",
              "<table border=\"1\" class=\"dataframe\">\n",
              "  <thead>\n",
              "    <tr style=\"text-align: right;\">\n",
              "      <th></th>\n",
              "      <th>power_1</th>\n",
              "      <th>power_2</th>\n",
              "      <th>power_3</th>\n",
              "      <th>power_4</th>\n",
              "      <th>power_5</th>\n",
              "      <th>power_6</th>\n",
              "      <th>power_7</th>\n",
              "      <th>power_8</th>\n",
              "      <th>power_9</th>\n",
              "      <th>power_10</th>\n",
              "      <th>power_11</th>\n",
              "      <th>power_12</th>\n",
              "      <th>power_13</th>\n",
              "      <th>power_14</th>\n",
              "      <th>power_15</th>\n",
              "      <th>target</th>\n",
              "    </tr>\n",
              "  </thead>\n",
              "  <tbody>\n",
              "    <tr>\n",
              "      <th>0</th>\n",
              "      <td>290.0</td>\n",
              "      <td>84100.0</td>\n",
              "      <td>24389000.0</td>\n",
              "      <td>7.072810e+09</td>\n",
              "      <td>2.051115e+12</td>\n",
              "      <td>5.948233e+14</td>\n",
              "      <td>1.724988e+17</td>\n",
              "      <td>5.002464e+19</td>\n",
              "      <td>1.450715e+22</td>\n",
              "      <td>4.207072e+24</td>\n",
              "      <td>1.220051e+27</td>\n",
              "      <td>3.538148e+29</td>\n",
              "      <td>1.026063e+32</td>\n",
              "      <td>2.975582e+34</td>\n",
              "      <td>8.629189e+36</td>\n",
              "      <td>221900.0</td>\n",
              "    </tr>\n",
              "    <tr>\n",
              "      <th>1</th>\n",
              "      <td>370.0</td>\n",
              "      <td>136900.0</td>\n",
              "      <td>50653000.0</td>\n",
              "      <td>1.874161e+10</td>\n",
              "      <td>6.934396e+12</td>\n",
              "      <td>2.565726e+15</td>\n",
              "      <td>9.493188e+17</td>\n",
              "      <td>3.512479e+20</td>\n",
              "      <td>1.299617e+23</td>\n",
              "      <td>4.808584e+25</td>\n",
              "      <td>1.779176e+28</td>\n",
              "      <td>6.582952e+30</td>\n",
              "      <td>2.435692e+33</td>\n",
              "      <td>9.012061e+35</td>\n",
              "      <td>3.334463e+38</td>\n",
              "      <td>538000.0</td>\n",
              "    </tr>\n",
              "    <tr>\n",
              "      <th>2</th>\n",
              "      <td>380.0</td>\n",
              "      <td>144400.0</td>\n",
              "      <td>54872000.0</td>\n",
              "      <td>2.085136e+10</td>\n",
              "      <td>7.923517e+12</td>\n",
              "      <td>3.010936e+15</td>\n",
              "      <td>1.144156e+18</td>\n",
              "      <td>4.347792e+20</td>\n",
              "      <td>1.652161e+23</td>\n",
              "      <td>6.278212e+25</td>\n",
              "      <td>2.385721e+28</td>\n",
              "      <td>9.065738e+30</td>\n",
              "      <td>3.444980e+33</td>\n",
              "      <td>1.309093e+36</td>\n",
              "      <td>4.974552e+38</td>\n",
              "      <td>180000.0</td>\n",
              "    </tr>\n",
              "    <tr>\n",
              "      <th>3</th>\n",
              "      <td>384.0</td>\n",
              "      <td>147456.0</td>\n",
              "      <td>56623104.0</td>\n",
              "      <td>2.174327e+10</td>\n",
              "      <td>8.349416e+12</td>\n",
              "      <td>3.206176e+15</td>\n",
              "      <td>1.231172e+18</td>\n",
              "      <td>4.727699e+20</td>\n",
              "      <td>1.815436e+23</td>\n",
              "      <td>6.971275e+25</td>\n",
              "      <td>2.676970e+28</td>\n",
              "      <td>1.027956e+31</td>\n",
              "      <td>3.947353e+33</td>\n",
              "      <td>1.515783e+36</td>\n",
              "      <td>5.820608e+38</td>\n",
              "      <td>604000.0</td>\n",
              "    </tr>\n",
              "    <tr>\n",
              "      <th>4</th>\n",
              "      <td>390.0</td>\n",
              "      <td>152100.0</td>\n",
              "      <td>59319000.0</td>\n",
              "      <td>2.313441e+10</td>\n",
              "      <td>9.022420e+12</td>\n",
              "      <td>3.518744e+15</td>\n",
              "      <td>1.372310e+18</td>\n",
              "      <td>5.352009e+20</td>\n",
              "      <td>2.087284e+23</td>\n",
              "      <td>8.140406e+25</td>\n",
              "      <td>3.174758e+28</td>\n",
              "      <td>1.238156e+31</td>\n",
              "      <td>4.828807e+33</td>\n",
              "      <td>1.883235e+36</td>\n",
              "      <td>7.344616e+38</td>\n",
              "      <td>510000.0</td>\n",
              "    </tr>\n",
              "  </tbody>\n",
              "</table>\n",
              "</div>\n",
              "      <button class=\"colab-df-convert\" onclick=\"convertToInteractive('df-7169095d-d992-46f7-8ea2-8884c7b73ccf')\"\n",
              "              title=\"Convert this dataframe to an interactive table.\"\n",
              "              style=\"display:none;\">\n",
              "        \n",
              "  <svg xmlns=\"http://www.w3.org/2000/svg\" height=\"24px\"viewBox=\"0 0 24 24\"\n",
              "       width=\"24px\">\n",
              "    <path d=\"M0 0h24v24H0V0z\" fill=\"none\"/>\n",
              "    <path d=\"M18.56 5.44l.94 2.06.94-2.06 2.06-.94-2.06-.94-.94-2.06-.94 2.06-2.06.94zm-11 1L8.5 8.5l.94-2.06 2.06-.94-2.06-.94L8.5 2.5l-.94 2.06-2.06.94zm10 10l.94 2.06.94-2.06 2.06-.94-2.06-.94-.94-2.06-.94 2.06-2.06.94z\"/><path d=\"M17.41 7.96l-1.37-1.37c-.4-.4-.92-.59-1.43-.59-.52 0-1.04.2-1.43.59L10.3 9.45l-7.72 7.72c-.78.78-.78 2.05 0 2.83L4 21.41c.39.39.9.59 1.41.59.51 0 1.02-.2 1.41-.59l7.78-7.78 2.81-2.81c.8-.78.8-2.07 0-2.86zM5.41 20L4 18.59l7.72-7.72 1.47 1.35L5.41 20z\"/>\n",
              "  </svg>\n",
              "      </button>\n",
              "      \n",
              "  <style>\n",
              "    .colab-df-container {\n",
              "      display:flex;\n",
              "      flex-wrap:wrap;\n",
              "      gap: 12px;\n",
              "    }\n",
              "\n",
              "    .colab-df-convert {\n",
              "      background-color: #E8F0FE;\n",
              "      border: none;\n",
              "      border-radius: 50%;\n",
              "      cursor: pointer;\n",
              "      display: none;\n",
              "      fill: #1967D2;\n",
              "      height: 32px;\n",
              "      padding: 0 0 0 0;\n",
              "      width: 32px;\n",
              "    }\n",
              "\n",
              "    .colab-df-convert:hover {\n",
              "      background-color: #E2EBFA;\n",
              "      box-shadow: 0px 1px 2px rgba(60, 64, 67, 0.3), 0px 1px 3px 1px rgba(60, 64, 67, 0.15);\n",
              "      fill: #174EA6;\n",
              "    }\n",
              "\n",
              "    [theme=dark] .colab-df-convert {\n",
              "      background-color: #3B4455;\n",
              "      fill: #D2E3FC;\n",
              "    }\n",
              "\n",
              "    [theme=dark] .colab-df-convert:hover {\n",
              "      background-color: #434B5C;\n",
              "      box-shadow: 0px 1px 3px 1px rgba(0, 0, 0, 0.15);\n",
              "      filter: drop-shadow(0px 1px 2px rgba(0, 0, 0, 0.3));\n",
              "      fill: #FFFFFF;\n",
              "    }\n",
              "  </style>\n",
              "\n",
              "      <script>\n",
              "        const buttonEl =\n",
              "          document.querySelector('#df-7169095d-d992-46f7-8ea2-8884c7b73ccf button.colab-df-convert');\n",
              "        buttonEl.style.display =\n",
              "          google.colab.kernel.accessAllowed ? 'block' : 'none';\n",
              "\n",
              "        async function convertToInteractive(key) {\n",
              "          const element = document.querySelector('#df-7169095d-d992-46f7-8ea2-8884c7b73ccf');\n",
              "          const dataTable =\n",
              "            await google.colab.kernel.invokeFunction('convertToInteractive',\n",
              "                                                     [key], {});\n",
              "          if (!dataTable) return;\n",
              "\n",
              "          const docLinkHtml = 'Like what you see? Visit the ' +\n",
              "            '<a target=\"_blank\" href=https://colab.research.google.com/notebooks/data_table.ipynb>data table notebook</a>'\n",
              "            + ' to learn more about interactive tables.';\n",
              "          element.innerHTML = '';\n",
              "          dataTable['output_type'] = 'display_data';\n",
              "          await google.colab.output.renderOutput(dataTable, element);\n",
              "          const docLink = document.createElement('div');\n",
              "          docLink.innerHTML = docLinkHtml;\n",
              "          element.appendChild(docLink);\n",
              "        }\n",
              "      </script>\n",
              "    </div>\n",
              "  </div>\n",
              "  "
            ]
          },
          "metadata": {},
          "execution_count": 2
        }
      ]
    },
    {
      "cell_type": "code",
      "source": [
        "penalty = 1.5e-5\n",
        "A = Ridge(normalize=True, alpha=penalty).fit(X, y)"
      ],
      "metadata": {
        "colab": {
          "base_uri": "https://localhost:8080/"
        },
        "id": "OWbR5yj8i88_",
        "outputId": "e1f8bf5a-6989-4481-8d21-ac05413be369"
      },
      "execution_count": 3,
      "outputs": [
        {
          "output_type": "stream",
          "name": "stderr",
          "text": [
            "/usr/local/lib/python3.7/dist-packages/sklearn/linear_model/_base.py:145: FutureWarning: 'normalize' was deprecated in version 1.0 and will be removed in 1.2.\n",
            "If you wish to scale the data, use Pipeline with a StandardScaler in a preprocessing stage. To reproduce the previous behavior:\n",
            "\n",
            "from sklearn.pipeline import make_pipeline\n",
            "\n",
            "model = make_pipeline(StandardScaler(with_mean=False), Ridge())\n",
            "\n",
            "If you wish to pass a sample_weight parameter, you need to pass it as a fit parameter to each step of the pipeline as follows:\n",
            "\n",
            "kwargs = {s[0] + '__sample_weight': sample_weight for s in model.steps}\n",
            "model.fit(X, y, **kwargs)\n",
            "\n",
            "Set parameter alpha to: original_alpha * n_samples. \n",
            "  FutureWarning,\n"
          ]
        }
      ]
    },
    {
      "cell_type": "code",
      "source": [
        "from sklearn.pipeline import make_pipeline\n",
        "\n",
        "B = make_pipeline(StandardScaler(with_mean=False), Ridge(alpha=penalty * X.shape[0]))\n",
        "B.fit(X, y)"
      ],
      "metadata": {
        "colab": {
          "base_uri": "https://localhost:8080/"
        },
        "id": "ebrdc3y1CC_9",
        "outputId": "f7bc6860-a959-4d0e-ce41-dde1000fd546"
      },
      "execution_count": 4,
      "outputs": [
        {
          "output_type": "execute_result",
          "data": {
            "text/plain": [
              "Pipeline(steps=[('standardscaler', StandardScaler(with_mean=False)),\n",
              "                ('ridge', Ridge(alpha=0.324195))])"
            ]
          },
          "metadata": {},
          "execution_count": 4
        }
      ]
    },
    {
      "cell_type": "code",
      "source": [
        "for i in range(X.shape[1]):\n",
        "    print(A.coef_[i], B[1].coef_[i] / B[0].scale_[i])\n"
      ],
      "metadata": {
        "colab": {
          "base_uri": "https://localhost:8080/"
        },
        "id": "YtSbOwbZCM02",
        "outputId": "8d8adef6-cfa5-479e-ef41-2b827c95dcb0"
      },
      "execution_count": 5,
      "outputs": [
        {
          "output_type": "stream",
          "name": "stdout",
          "text": [
            "-27.146695104574537 -27.146695104434496\n",
            "0.004539501338651588 0.004539501338546368\n",
            "2.1818777212039407e-06 2.181877721236087e-06\n",
            "-3.138752250904223e-10 -3.1387522509374534e-10\n",
            "1.146994194901286e-15 1.1469941947734586e-15\n",
            "8.702444221177161e-19 8.7024442213974e-19\n",
            "-8.12615496452096e-24 -8.126154962012825e-24\n",
            "-4.49757556285541e-27 -4.4975755629786446e-27\n",
            "-2.3328447957008473e-31 -2.3328447959212177e-31\n",
            "6.325894579997212e-36 6.32589457999304e-36\n",
            "2.0555391095672096e-39 2.055539109687643e-39\n",
            "1.920104055323069e-43 1.9201040553530566e-43\n",
            "9.623468025047094e-48 9.623468024730885e-48\n",
            "-1.6321932842749238e-52 -1.6321932845806583e-52\n",
            "-1.0919777695190494e-55 -1.0919777695016982e-55\n"
          ]
        }
      ]
    },
    {
      "cell_type": "code",
      "source": [
        "import numpy as np\n",
        "np.allclose(A.coef_, B[1].coef_ / B[0].scale_)"
      ],
      "metadata": {
        "colab": {
          "base_uri": "https://localhost:8080/"
        },
        "id": "bDYbs750Eh_Y",
        "outputId": "64464597-4fa1-4021-ee7f-79877c611085"
      },
      "execution_count": 6,
      "outputs": [
        {
          "output_type": "execute_result",
          "data": {
            "text/plain": [
              "True"
            ]
          },
          "metadata": {},
          "execution_count": 6
        }
      ]
    },
    {
      "cell_type": "code",
      "source": [
        "A.coef_[0] * X.iloc[:, 0].std()"
      ],
      "metadata": {
        "colab": {
          "base_uri": "https://localhost:8080/"
        },
        "id": "JTaK0ae9CO0u",
        "outputId": "09830efc-4ec9-4899-c013-c3bdaa462a7c"
      },
      "execution_count": 7,
      "outputs": [
        {
          "output_type": "execute_result",
          "data": {
            "text/plain": [
              "-24932.635003701726"
            ]
          },
          "metadata": {},
          "execution_count": 7
        }
      ]
    },
    {
      "cell_type": "code",
      "source": [],
      "metadata": {
        "id": "9n6ZOrkXCqY0"
      },
      "execution_count": 7,
      "outputs": []
    }
  ]
}