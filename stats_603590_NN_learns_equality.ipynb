{
  "nbformat": 4,
  "nbformat_minor": 0,
  "metadata": {
    "colab": {
      "provenance": [],
      "authorship_tag": "ABX9TyPbUvimSxfW0HlqH8qT1Jvb",
      "include_colab_link": true
    },
    "kernelspec": {
      "name": "python3",
      "display_name": "Python 3"
    },
    "language_info": {
      "name": "python"
    }
  },
  "cells": [
    {
      "cell_type": "markdown",
      "metadata": {
        "id": "view-in-github",
        "colab_type": "text"
      },
      "source": [
        "<a href=\"https://colab.research.google.com/github/bmreiniger/datascience.stackexchange/blob/master/stats_603590_NN_learns_equality.ipynb\" target=\"_parent\"><img src=\"https://colab.research.google.com/assets/colab-badge.svg\" alt=\"Open In Colab\"/></a>"
      ]
    },
    {
      "cell_type": "code",
      "execution_count": 9,
      "metadata": {
        "id": "5U1nLw1vNwm8"
      },
      "outputs": [],
      "source": [
        "from sklearn.neural_network import MLPClassifier\n",
        "from sklearn.model_selection import train_test_split\n",
        "import numpy as np"
      ]
    },
    {
      "cell_type": "code",
      "source": [
        "n = 1000\n",
        "\n",
        "np.random.seed(314)\n",
        "x1 = np.random.randint(-100, 101, size=n)\n",
        "p = np.random.poisson(size=n)\n",
        "x2 = x1 + p\n",
        "X = np.vstack((x1, x2)).T\n",
        "X = X / 100.0\n",
        "\n",
        "y = (p == 0)"
      ],
      "metadata": {
        "id": "a2VMTkbAN0nq"
      },
      "execution_count": 17,
      "outputs": []
    },
    {
      "cell_type": "code",
      "source": [
        "x1_out = np.random.randint(200, 301, size=100)\n",
        "p_out = np.random.poisson(size=100)\n",
        "x2_out = x1_out + p_out\n",
        "X_out = np.vstack((x1_out, x2_out)).T\n",
        "X_out = X_out / 100.0\n",
        "\n",
        "y_out = (p_out == 0)"
      ],
      "metadata": {
        "id": "IEZd0FtsUgRo"
      },
      "execution_count": 84,
      "outputs": []
    },
    {
      "cell_type": "code",
      "source": [
        "y.mean()"
      ],
      "metadata": {
        "colab": {
          "base_uri": "https://localhost:8080/"
        },
        "id": "FLo4HYH8OyyJ",
        "outputId": "66bb8d00-b798-4ac2-94c7-3f4451898299"
      },
      "execution_count": 18,
      "outputs": [
        {
          "output_type": "execute_result",
          "data": {
            "text/plain": [
              "0.376"
            ]
          },
          "metadata": {},
          "execution_count": 18
        }
      ]
    },
    {
      "cell_type": "code",
      "source": [
        "X_train, X_test, y_train, y_test = train_test_split(X, y, random_state=42)"
      ],
      "metadata": {
        "id": "OSawjA7DPJW7"
      },
      "execution_count": 19,
      "outputs": []
    },
    {
      "cell_type": "code",
      "source": [
        "model = MLPClassifier((2,), learning_rate_init=0.1, max_iter=1000, random_state=1618)\n",
        "model.fit(X_train, y_train)\n",
        "model.score(X_test, y_test)"
      ],
      "metadata": {
        "colab": {
          "base_uri": "https://localhost:8080/"
        },
        "id": "JrvAIyZ9O6Na",
        "outputId": "e8162668-d031-4a71-80eb-73909ec61004"
      },
      "execution_count": 26,
      "outputs": [
        {
          "output_type": "execute_result",
          "data": {
            "text/plain": [
              "0.58"
            ]
          },
          "metadata": {},
          "execution_count": 26
        }
      ]
    },
    {
      "cell_type": "code",
      "source": [
        "model = MLPClassifier((5,), learning_rate_init=0.1, max_iter=1000, random_state=1618)\n",
        "model.fit(X_train, y_train)\n",
        "model.score(X_test, y_test)"
      ],
      "metadata": {
        "colab": {
          "base_uri": "https://localhost:8080/"
        },
        "id": "fdiYns1tPW7C",
        "outputId": "578055bf-c6bc-4018-c10f-0df74cbb0497"
      },
      "execution_count": 27,
      "outputs": [
        {
          "output_type": "execute_result",
          "data": {
            "text/plain": [
              "0.58"
            ]
          },
          "metadata": {},
          "execution_count": 27
        }
      ]
    },
    {
      "cell_type": "code",
      "source": [
        "model = MLPClassifier((100,), learning_rate_init=0.1, max_iter=1000, random_state=1618)\n",
        "model.fit(X_train, y_train)\n",
        "model.score(X_test, y_test)"
      ],
      "metadata": {
        "colab": {
          "base_uri": "https://localhost:8080/"
        },
        "id": "QrkO4g8ZPnOS",
        "outputId": "645b4a17-2110-49bc-cf46-1f1a208d4ba1"
      },
      "execution_count": 85,
      "outputs": [
        {
          "output_type": "execute_result",
          "data": {
            "text/plain": [
              "1.0"
            ]
          },
          "metadata": {},
          "execution_count": 85
        }
      ]
    },
    {
      "cell_type": "code",
      "source": [
        "model.score(X_out, y_out)"
      ],
      "metadata": {
        "colab": {
          "base_uri": "https://localhost:8080/"
        },
        "id": "uLyKjtgNU2ng",
        "outputId": "c8990ef8-050e-41cb-9fa3-23135cfadc8a"
      },
      "execution_count": 86,
      "outputs": [
        {
          "output_type": "execute_result",
          "data": {
            "text/plain": [
              "0.63"
            ]
          },
          "metadata": {},
          "execution_count": 86
        }
      ]
    },
    {
      "cell_type": "code",
      "source": [
        "model = MLPClassifier((2,), learning_rate_init=0.1, max_iter=1000, random_state=0)\n",
        "model.fit(X_train, y_train)\n",
        "model.score(X_test, y_test)"
      ],
      "metadata": {
        "colab": {
          "base_uri": "https://localhost:8080/"
        },
        "id": "gSBv0QdHP_mZ",
        "outputId": "4a5d9ee8-e3ef-4182-d407-752a08088d22"
      },
      "execution_count": 33,
      "outputs": [
        {
          "output_type": "execute_result",
          "data": {
            "text/plain": [
              "0.58"
            ]
          },
          "metadata": {},
          "execution_count": 33
        }
      ]
    },
    {
      "cell_type": "code",
      "source": [
        "model.coefs_"
      ],
      "metadata": {
        "colab": {
          "base_uri": "https://localhost:8080/"
        },
        "id": "EmzjTP9fQEGQ",
        "outputId": "46656abc-a7f4-4e97-c424-d4786afc4873"
      },
      "execution_count": 35,
      "outputs": [
        {
          "output_type": "execute_result",
          "data": {
            "text/plain": [
              "[array([[-0.11211233, -0.06691361],\n",
              "        [ 0.30552882, -0.53423651]]), array([[-0.07942432],\n",
              "        [ 0.15063626]])]"
            ]
          },
          "metadata": {},
          "execution_count": 35
        }
      ]
    },
    {
      "cell_type": "code",
      "source": [
        "model = MLPClassifier((5,), learning_rate_init=0.05, learning_rate=\"adaptive\", alpha=0, max_iter=1000, random_state=0)\n",
        "model.fit(X_train, y_train)\n",
        "print(model.score(X_test, y_test))\n",
        "model.coefs_"
      ],
      "metadata": {
        "colab": {
          "base_uri": "https://localhost:8080/"
        },
        "id": "PkYzVArRQPwK",
        "outputId": "ad028762-e0cf-4b3a-be07-da1d4299ed3f"
      },
      "execution_count": 87,
      "outputs": [
        {
          "output_type": "stream",
          "name": "stdout",
          "text": [
            "0.964\n"
          ]
        },
        {
          "output_type": "execute_result",
          "data": {
            "text/plain": [
              "[array([[-5.28193302, -4.71679774, -0.20732829, -0.82536738, -0.14136384],\n",
              "        [ 5.26312562,  4.70770845,  0.31451317,  1.42101998, -0.21582437]]),\n",
              " array([[-16.27265811],\n",
              "        [-18.1835566 ],\n",
              "        [  0.1559244 ],\n",
              "        [ -0.38534808],\n",
              "        [  0.7400243 ]])]"
            ]
          },
          "metadata": {},
          "execution_count": 87
        }
      ]
    },
    {
      "cell_type": "code",
      "source": [
        "model.score(X_out, y_out)"
      ],
      "metadata": {
        "colab": {
          "base_uri": "https://localhost:8080/"
        },
        "id": "wo88nBBwQ9Dy",
        "outputId": "6042b495-cb12-45df-8ef0-0caa6a9e30c6"
      },
      "execution_count": 88,
      "outputs": [
        {
          "output_type": "execute_result",
          "data": {
            "text/plain": [
              "1.0"
            ]
          },
          "metadata": {},
          "execution_count": 88
        }
      ]
    },
    {
      "cell_type": "code",
      "source": [],
      "metadata": {
        "id": "PUM_rv_ZU7sg"
      },
      "execution_count": null,
      "outputs": []
    }
  ]
}