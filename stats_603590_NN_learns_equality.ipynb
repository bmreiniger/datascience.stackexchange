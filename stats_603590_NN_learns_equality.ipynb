{
  "nbformat": 4,
  "nbformat_minor": 0,
  "metadata": {
    "colab": {
      "provenance": [],
      "authorship_tag": "ABX9TyPKyeRMGmt5ZCCbFx5lDfWG",
      "include_colab_link": true
    },
    "kernelspec": {
      "name": "python3",
      "display_name": "Python 3"
    },
    "language_info": {
      "name": "python"
    }
  },
  "cells": [
    {
      "cell_type": "markdown",
      "metadata": {
        "id": "view-in-github",
        "colab_type": "text"
      },
      "source": [
        "<a href=\"https://colab.research.google.com/github/bmreiniger/datascience.stackexchange/blob/master/stats_603590_NN_learns_equality.ipynb\" target=\"_parent\"><img src=\"https://colab.research.google.com/assets/colab-badge.svg\" alt=\"Open In Colab\"/></a>"
      ]
    },
    {
      "cell_type": "code",
      "execution_count": 1,
      "metadata": {
        "id": "5U1nLw1vNwm8"
      },
      "outputs": [],
      "source": [
        "from sklearn.neural_network import MLPClassifier\n",
        "from sklearn.model_selection import train_test_split\n",
        "import numpy as np"
      ]
    },
    {
      "cell_type": "code",
      "source": [
        "n = 10000\n",
        "\n",
        "np.random.seed(314)\n",
        "x1 = np.random.randint(-100, 101, size=n)\n",
        "p = np.random.poisson(size=n) * np.sign(np.random.random(n) - 0.5)\n",
        "x2 = x1 + p\n",
        "X = np.vstack((x1, x2)).T\n",
        "X = X / 200.0  # better convergence\n",
        "\n",
        "y = (p == 0)"
      ],
      "metadata": {
        "id": "a2VMTkbAN0nq"
      },
      "execution_count": 136,
      "outputs": []
    },
    {
      "cell_type": "code",
      "source": [
        "x1_out = np.random.randint(200, 301, size=100)\n",
        "p_out = np.random.poisson(size=100) * np.sign(np.random.random(100) - 0.5)\n",
        "x2_out = x1_out + p_out\n",
        "X_out = np.vstack((x1_out, x2_out)).T\n",
        "X_out = X_out / 200.0\n",
        "\n",
        "y_out = (p_out == 0)"
      ],
      "metadata": {
        "id": "IEZd0FtsUgRo"
      },
      "execution_count": 137,
      "outputs": []
    },
    {
      "cell_type": "code",
      "source": [
        "y.mean()"
      ],
      "metadata": {
        "colab": {
          "base_uri": "https://localhost:8080/"
        },
        "id": "FLo4HYH8OyyJ",
        "outputId": "e5fa00f2-b7f4-4392-81f9-d71c4fe62bef"
      },
      "execution_count": 138,
      "outputs": [
        {
          "output_type": "execute_result",
          "data": {
            "text/plain": [
              "0.3609"
            ]
          },
          "metadata": {},
          "execution_count": 138
        }
      ]
    },
    {
      "cell_type": "code",
      "source": [
        "X_train, X_test, y_train, y_test = train_test_split(X, y, random_state=42)"
      ],
      "metadata": {
        "id": "OSawjA7DPJW7"
      },
      "execution_count": 139,
      "outputs": []
    },
    {
      "cell_type": "code",
      "source": [
        "model = MLPClassifier((2,), learning_rate_init=0.1, max_iter=1000, random_state=1618)\n",
        "model.fit(X_train, y_train)\n",
        "model.score(X_test, y_test)"
      ],
      "metadata": {
        "colab": {
          "base_uri": "https://localhost:8080/"
        },
        "id": "JrvAIyZ9O6Na",
        "outputId": "d8bc683d-8177-49e0-d8a2-56216dd992ab"
      },
      "execution_count": 140,
      "outputs": [
        {
          "output_type": "execute_result",
          "data": {
            "text/plain": [
              "0.6348"
            ]
          },
          "metadata": {},
          "execution_count": 140
        }
      ]
    },
    {
      "cell_type": "code",
      "source": [
        "model = MLPClassifier((5,), learning_rate_init=0.1, max_iter=1000, random_state=1618)\n",
        "model.fit(X_train, y_train)\n",
        "model.score(X_test, y_test)"
      ],
      "metadata": {
        "colab": {
          "base_uri": "https://localhost:8080/"
        },
        "id": "fdiYns1tPW7C",
        "outputId": "b24b414e-d3cc-412c-d73d-dcb290eb565d"
      },
      "execution_count": 141,
      "outputs": [
        {
          "output_type": "execute_result",
          "data": {
            "text/plain": [
              "0.6348"
            ]
          },
          "metadata": {},
          "execution_count": 141
        }
      ]
    },
    {
      "cell_type": "code",
      "source": [
        "model = MLPClassifier((10,), learning_rate_init=0.01, max_iter=1000, random_state=1)\n",
        "model.fit(X_train, y_train)\n",
        "model.score(X_test, y_test)"
      ],
      "metadata": {
        "colab": {
          "base_uri": "https://localhost:8080/"
        },
        "id": "QrkO4g8ZPnOS",
        "outputId": "88768543-6979-45ac-9c82-107d8938d510"
      },
      "execution_count": 142,
      "outputs": [
        {
          "output_type": "execute_result",
          "data": {
            "text/plain": [
              "0.6348"
            ]
          },
          "metadata": {},
          "execution_count": 142
        }
      ]
    },
    {
      "cell_type": "code",
      "source": [
        "model.score(X_train, y_train)"
      ],
      "metadata": {
        "colab": {
          "base_uri": "https://localhost:8080/"
        },
        "id": "1TX4JDMppsgd",
        "outputId": "6662ace7-52d1-4cec-e2d9-605da4be3eda"
      },
      "execution_count": 143,
      "outputs": [
        {
          "output_type": "execute_result",
          "data": {
            "text/plain": [
              "0.6405333333333333"
            ]
          },
          "metadata": {},
          "execution_count": 143
        }
      ]
    },
    {
      "cell_type": "code",
      "source": [
        "model.score(X_out, y_out)"
      ],
      "metadata": {
        "colab": {
          "base_uri": "https://localhost:8080/"
        },
        "id": "uLyKjtgNU2ng",
        "outputId": "5c937627-e225-461c-91b7-8726dbd9887d"
      },
      "execution_count": 144,
      "outputs": [
        {
          "output_type": "execute_result",
          "data": {
            "text/plain": [
              "0.65"
            ]
          },
          "metadata": {},
          "execution_count": 144
        }
      ]
    },
    {
      "cell_type": "code",
      "source": [
        "model = MLPClassifier((2,), learning_rate_init=0.1, max_iter=1000, random_state=0)\n",
        "model.fit(X_train, y_train)\n",
        "model.score(X_test, y_test)"
      ],
      "metadata": {
        "colab": {
          "base_uri": "https://localhost:8080/"
        },
        "id": "gSBv0QdHP_mZ",
        "outputId": "399894a2-dec1-4396-f210-b06b74fa15ca"
      },
      "execution_count": 145,
      "outputs": [
        {
          "output_type": "execute_result",
          "data": {
            "text/plain": [
              "0.6348"
            ]
          },
          "metadata": {},
          "execution_count": 145
        }
      ]
    },
    {
      "cell_type": "code",
      "source": [
        "model.coefs_"
      ],
      "metadata": {
        "colab": {
          "base_uri": "https://localhost:8080/"
        },
        "id": "EmzjTP9fQEGQ",
        "outputId": "f3714e1a-1831-49c6-a4f4-df3448964531"
      },
      "execution_count": 146,
      "outputs": [
        {
          "output_type": "execute_result",
          "data": {
            "text/plain": [
              "[array([[ 2.19282184e-23, -4.10794384e-01],\n",
              "        [-5.32766099e-23, -8.24248817e-01]]), array([[-6.74468634e-23],\n",
              "        [ 2.10345224e-02]])]"
            ]
          },
          "metadata": {},
          "execution_count": 146
        }
      ]
    },
    {
      "cell_type": "code",
      "source": [
        "model = MLPClassifier((2,), activation='tanh', solver='lbfgs', alpha=0.0001, tol=1e-7, max_iter=1000, random_state=0)\n",
        "model.fit(X_train, y_train)\n",
        "print(model.score(X_test, y_test))\n",
        "model.coefs_"
      ],
      "metadata": {
        "colab": {
          "base_uri": "https://localhost:8080/"
        },
        "id": "PkYzVArRQPwK",
        "outputId": "ea9732c3-e100-4eb3-d394-2656e3dbfe7e"
      },
      "execution_count": 174,
      "outputs": [
        {
          "output_type": "stream",
          "name": "stdout",
          "text": [
            "1.0\n"
          ]
        },
        {
          "output_type": "execute_result",
          "data": {
            "text/plain": [
              "[array([[-155.04975387,   62.57832368],\n",
              "        [ 155.0491934 ,  -62.57812308]]), array([[ 75.66146126],\n",
              "        [168.25414012]])]"
            ]
          },
          "metadata": {},
          "execution_count": 174
        }
      ]
    },
    {
      "cell_type": "code",
      "source": [
        "model.n_iter_"
      ],
      "metadata": {
        "colab": {
          "base_uri": "https://localhost:8080/"
        },
        "id": "nzrrSI69u5Nj",
        "outputId": "64f7ea2d-a0a6-4def-dfca-8d82920e0e56"
      },
      "execution_count": 166,
      "outputs": [
        {
          "output_type": "execute_result",
          "data": {
            "text/plain": [
              "255"
            ]
          },
          "metadata": {},
          "execution_count": 166
        }
      ]
    },
    {
      "cell_type": "code",
      "source": [
        "model.intercepts_"
      ],
      "metadata": {
        "colab": {
          "base_uri": "https://localhost:8080/"
        },
        "id": "a21npskXt7WL",
        "outputId": "9bf48113-1dc1-4981-a0f5-bb9ebe5986e2"
      },
      "execution_count": 168,
      "outputs": [
        {
          "output_type": "execute_result",
          "data": {
            "text/plain": [
              "[array([0.57297751, 0.50153979]), array([-107.39939106])]"
            ]
          },
          "metadata": {},
          "execution_count": 168
        }
      ]
    },
    {
      "cell_type": "code",
      "source": [
        "model.score(X_out, y_out)"
      ],
      "metadata": {
        "colab": {
          "base_uri": "https://localhost:8080/"
        },
        "id": "wo88nBBwQ9Dy",
        "outputId": "f92e6238-309c-47c9-a9ae-cf92e5462fa7"
      },
      "execution_count": 169,
      "outputs": [
        {
          "output_type": "execute_result",
          "data": {
            "text/plain": [
              "1.0"
            ]
          },
          "metadata": {},
          "execution_count": 169
        }
      ]
    },
    {
      "cell_type": "code",
      "source": [],
      "metadata": {
        "id": "PUM_rv_ZU7sg"
      },
      "execution_count": null,
      "outputs": []
    },
    {
      "cell_type": "code",
      "source": [],
      "metadata": {
        "id": "CRRogV_Nnfa4"
      },
      "execution_count": null,
      "outputs": []
    }
  ]
}