{
  "nbformat": 4,
  "nbformat_minor": 0,
  "metadata": {
    "colab": {
      "name": "111621-decile_aucs.ipynb",
      "provenance": [],
      "authorship_tag": "ABX9TyPAvBWOnINoXWs23Obj7kDO",
      "include_colab_link": true
    },
    "kernelspec": {
      "name": "python3",
      "display_name": "Python 3"
    },
    "language_info": {
      "name": "python"
    }
  },
  "cells": [
    {
      "cell_type": "markdown",
      "metadata": {
        "id": "view-in-github",
        "colab_type": "text"
      },
      "source": [
        "<a href=\"https://colab.research.google.com/github/bmreiniger/datascience.stackexchange/blob/master/111621_decile_aucs.ipynb\" target=\"_parent\"><img src=\"https://colab.research.google.com/assets/colab-badge.svg\" alt=\"Open In Colab\"/></a>"
      ]
    },
    {
      "cell_type": "code",
      "execution_count": 1,
      "metadata": {
        "id": "IalN6ASZu1Au"
      },
      "outputs": [],
      "source": [
        "from sklearn.datasets import make_classification\n",
        "from sklearn.model_selection import train_test_split\n",
        "from sklearn.linear_model import LogisticRegression\n",
        "from sklearn.metrics import roc_auc_score\n",
        "import numpy as np\n",
        "import pandas as pd\n"
      ]
    },
    {
      "cell_type": "code",
      "source": [
        "X, y = make_classification(n_samples=5000, class_sep=0.5, random_state=42)\n",
        "X_train, X_test, y_train, y_test = train_test_split(X, y, stratify=y, random_state=314)\n",
        "model = LogisticRegression()\n",
        "model.fit(X_train, y_train)\n",
        "y_pred = model.predict_proba(X_test)[:, 1]\n",
        "roc_auc_score(y_test, y_pred)"
      ],
      "metadata": {
        "colab": {
          "base_uri": "https://localhost:8080/"
        },
        "id": "uwwJX74ju7nS",
        "outputId": "eaa60c1e-e034-4bab-af85-b89ca7be1be4"
      },
      "execution_count": 7,
      "outputs": [
        {
          "output_type": "execute_result",
          "data": {
            "text/plain": [
              "0.762605472270009"
            ]
          },
          "metadata": {},
          "execution_count": 7
        }
      ]
    },
    {
      "cell_type": "code",
      "source": [
        "deciles = pd.qcut(y_pred, 10)\n",
        "for dec in deciles.categories:\n",
        "  mask = deciles == dec\n",
        "  try:\n",
        "    auc = roc_auc_score(y_test[mask], y_pred[mask])\n",
        "  except ValueError:\n",
        "    auc = np.nan\n",
        "  print(dec, auc)"
      ],
      "metadata": {
        "colab": {
          "base_uri": "https://localhost:8080/"
        },
        "id": "7iOTWy4Cvcsd",
        "outputId": "6423627f-80a4-41b5-a9c8-5d39824fd723"
      },
      "execution_count": 8,
      "outputs": [
        {
          "output_type": "stream",
          "name": "stdout",
          "text": [
            "(0.0194, 0.158] 0.5287610619469026\n",
            "(0.158, 0.255] 0.5771452145214522\n",
            "(0.255, 0.348] 0.5102777777777778\n",
            "(0.348, 0.425] 0.6027647365675535\n",
            "(0.425, 0.504] 0.5254760679361812\n",
            "(0.504, 0.579] 0.4971693257848687\n",
            "(0.579, 0.649] 0.5566666666666666\n",
            "(0.649, 0.72] 0.48698412698412696\n",
            "(0.72, 0.822] 0.4751228501228501\n",
            "(0.822, 0.996] 0.6377995642701525\n"
          ]
        }
      ]
    },
    {
      "cell_type": "markdown",
      "source": [
        "As I expected, the intra-decile AUCs are all (significantly) lower than the overall AUC."
      ],
      "metadata": {
        "id": "zGM3dVtnHS_V"
      }
    },
    {
      "cell_type": "code",
      "source": [
        "df = pd.DataFrame({'y': y_test, 'p': y_pred, 'decile': deciles})\n",
        "df.groupby('decile')[['y', 'p']].mean()\n"
      ],
      "metadata": {
        "colab": {
          "base_uri": "https://localhost:8080/",
          "height": 395
        },
        "id": "DwKsRKeHvkPA",
        "outputId": "e402fe9a-515c-4758-ba60-de1a1834222b"
      },
      "execution_count": 4,
      "outputs": [
        {
          "output_type": "execute_result",
          "data": {
            "text/plain": [
              "                     y         p\n",
              "decile                          \n",
              "(0.0156, 0.206]  0.224  0.150254\n",
              "(0.206, 0.283]   0.248  0.245285\n",
              "(0.283, 0.36]    0.280  0.320988\n",
              "(0.36, 0.416]    0.296  0.388467\n",
              "(0.416, 0.487]   0.288  0.453627\n",
              "(0.487, 0.56]    0.488  0.522413\n",
              "(0.56, 0.655]    0.552  0.611260\n",
              "(0.655, 0.75]    0.776  0.703427\n",
              "(0.75, 0.84]     0.880  0.796211\n",
              "(0.84, 0.997]    0.976  0.905297"
            ],
            "text/html": [
              "\n",
              "  <div id=\"df-dcf72614-ea63-423b-b656-ec47b76bf15b\">\n",
              "    <div class=\"colab-df-container\">\n",
              "      <div>\n",
              "<style scoped>\n",
              "    .dataframe tbody tr th:only-of-type {\n",
              "        vertical-align: middle;\n",
              "    }\n",
              "\n",
              "    .dataframe tbody tr th {\n",
              "        vertical-align: top;\n",
              "    }\n",
              "\n",
              "    .dataframe thead th {\n",
              "        text-align: right;\n",
              "    }\n",
              "</style>\n",
              "<table border=\"1\" class=\"dataframe\">\n",
              "  <thead>\n",
              "    <tr style=\"text-align: right;\">\n",
              "      <th></th>\n",
              "      <th>y</th>\n",
              "      <th>p</th>\n",
              "    </tr>\n",
              "    <tr>\n",
              "      <th>decile</th>\n",
              "      <th></th>\n",
              "      <th></th>\n",
              "    </tr>\n",
              "  </thead>\n",
              "  <tbody>\n",
              "    <tr>\n",
              "      <th>(0.0156, 0.206]</th>\n",
              "      <td>0.224</td>\n",
              "      <td>0.150254</td>\n",
              "    </tr>\n",
              "    <tr>\n",
              "      <th>(0.206, 0.283]</th>\n",
              "      <td>0.248</td>\n",
              "      <td>0.245285</td>\n",
              "    </tr>\n",
              "    <tr>\n",
              "      <th>(0.283, 0.36]</th>\n",
              "      <td>0.280</td>\n",
              "      <td>0.320988</td>\n",
              "    </tr>\n",
              "    <tr>\n",
              "      <th>(0.36, 0.416]</th>\n",
              "      <td>0.296</td>\n",
              "      <td>0.388467</td>\n",
              "    </tr>\n",
              "    <tr>\n",
              "      <th>(0.416, 0.487]</th>\n",
              "      <td>0.288</td>\n",
              "      <td>0.453627</td>\n",
              "    </tr>\n",
              "    <tr>\n",
              "      <th>(0.487, 0.56]</th>\n",
              "      <td>0.488</td>\n",
              "      <td>0.522413</td>\n",
              "    </tr>\n",
              "    <tr>\n",
              "      <th>(0.56, 0.655]</th>\n",
              "      <td>0.552</td>\n",
              "      <td>0.611260</td>\n",
              "    </tr>\n",
              "    <tr>\n",
              "      <th>(0.655, 0.75]</th>\n",
              "      <td>0.776</td>\n",
              "      <td>0.703427</td>\n",
              "    </tr>\n",
              "    <tr>\n",
              "      <th>(0.75, 0.84]</th>\n",
              "      <td>0.880</td>\n",
              "      <td>0.796211</td>\n",
              "    </tr>\n",
              "    <tr>\n",
              "      <th>(0.84, 0.997]</th>\n",
              "      <td>0.976</td>\n",
              "      <td>0.905297</td>\n",
              "    </tr>\n",
              "  </tbody>\n",
              "</table>\n",
              "</div>\n",
              "      <button class=\"colab-df-convert\" onclick=\"convertToInteractive('df-dcf72614-ea63-423b-b656-ec47b76bf15b')\"\n",
              "              title=\"Convert this dataframe to an interactive table.\"\n",
              "              style=\"display:none;\">\n",
              "        \n",
              "  <svg xmlns=\"http://www.w3.org/2000/svg\" height=\"24px\"viewBox=\"0 0 24 24\"\n",
              "       width=\"24px\">\n",
              "    <path d=\"M0 0h24v24H0V0z\" fill=\"none\"/>\n",
              "    <path d=\"M18.56 5.44l.94 2.06.94-2.06 2.06-.94-2.06-.94-.94-2.06-.94 2.06-2.06.94zm-11 1L8.5 8.5l.94-2.06 2.06-.94-2.06-.94L8.5 2.5l-.94 2.06-2.06.94zm10 10l.94 2.06.94-2.06 2.06-.94-2.06-.94-.94-2.06-.94 2.06-2.06.94z\"/><path d=\"M17.41 7.96l-1.37-1.37c-.4-.4-.92-.59-1.43-.59-.52 0-1.04.2-1.43.59L10.3 9.45l-7.72 7.72c-.78.78-.78 2.05 0 2.83L4 21.41c.39.39.9.59 1.41.59.51 0 1.02-.2 1.41-.59l7.78-7.78 2.81-2.81c.8-.78.8-2.07 0-2.86zM5.41 20L4 18.59l7.72-7.72 1.47 1.35L5.41 20z\"/>\n",
              "  </svg>\n",
              "      </button>\n",
              "      \n",
              "  <style>\n",
              "    .colab-df-container {\n",
              "      display:flex;\n",
              "      flex-wrap:wrap;\n",
              "      gap: 12px;\n",
              "    }\n",
              "\n",
              "    .colab-df-convert {\n",
              "      background-color: #E8F0FE;\n",
              "      border: none;\n",
              "      border-radius: 50%;\n",
              "      cursor: pointer;\n",
              "      display: none;\n",
              "      fill: #1967D2;\n",
              "      height: 32px;\n",
              "      padding: 0 0 0 0;\n",
              "      width: 32px;\n",
              "    }\n",
              "\n",
              "    .colab-df-convert:hover {\n",
              "      background-color: #E2EBFA;\n",
              "      box-shadow: 0px 1px 2px rgba(60, 64, 67, 0.3), 0px 1px 3px 1px rgba(60, 64, 67, 0.15);\n",
              "      fill: #174EA6;\n",
              "    }\n",
              "\n",
              "    [theme=dark] .colab-df-convert {\n",
              "      background-color: #3B4455;\n",
              "      fill: #D2E3FC;\n",
              "    }\n",
              "\n",
              "    [theme=dark] .colab-df-convert:hover {\n",
              "      background-color: #434B5C;\n",
              "      box-shadow: 0px 1px 3px 1px rgba(0, 0, 0, 0.15);\n",
              "      filter: drop-shadow(0px 1px 2px rgba(0, 0, 0, 0.3));\n",
              "      fill: #FFFFFF;\n",
              "    }\n",
              "  </style>\n",
              "\n",
              "      <script>\n",
              "        const buttonEl =\n",
              "          document.querySelector('#df-dcf72614-ea63-423b-b656-ec47b76bf15b button.colab-df-convert');\n",
              "        buttonEl.style.display =\n",
              "          google.colab.kernel.accessAllowed ? 'block' : 'none';\n",
              "\n",
              "        async function convertToInteractive(key) {\n",
              "          const element = document.querySelector('#df-dcf72614-ea63-423b-b656-ec47b76bf15b');\n",
              "          const dataTable =\n",
              "            await google.colab.kernel.invokeFunction('convertToInteractive',\n",
              "                                                     [key], {});\n",
              "          if (!dataTable) return;\n",
              "\n",
              "          const docLinkHtml = 'Like what you see? Visit the ' +\n",
              "            '<a target=\"_blank\" href=https://colab.research.google.com/notebooks/data_table.ipynb>data table notebook</a>'\n",
              "            + ' to learn more about interactive tables.';\n",
              "          element.innerHTML = '';\n",
              "          dataTable['output_type'] = 'display_data';\n",
              "          await google.colab.output.renderOutput(dataTable, element);\n",
              "          const docLink = document.createElement('div');\n",
              "          docLink.innerHTML = docLinkHtml;\n",
              "          element.appendChild(docLink);\n",
              "        }\n",
              "      </script>\n",
              "    </div>\n",
              "  </div>\n",
              "  "
            ]
          },
          "metadata": {},
          "execution_count": 4
        }
      ]
    },
    {
      "cell_type": "markdown",
      "source": [
        "The decile chart here helps to show why, given the interpretation of AUROC as the probability of correctly ordering a random positive and negative observation.  The model-score-deciles have nearly monotonic mean responses.  A random positive and negative example are either intra-decile or inter-decile.  The overall AUC is obtained by considering all of these, but the individual decile AUCs considers just the intra-decile pairs.  Since the deciles' response rates are quite different, the inter-decile pairs give a significant boost to the overall AUC."
      ],
      "metadata": {
        "id": "2gWE2zxmHaEC"
      }
    },
    {
      "cell_type": "markdown",
      "source": [
        "# But..."
      ],
      "metadata": {
        "id": "Ck2SZLuZIUqS"
      }
    },
    {
      "cell_type": "markdown",
      "source": [
        "Theoretically, it's possible for the intra-decile AUCs to be better than the overall, but it would be very strange for a model to produce that: it requires that larger differences in probabilities (so inter-decile pairs of (+,-) observations) are actually less often in the right order than smaller differences in probability (intra-decile pairs)."
      ],
      "metadata": {
        "id": "Dvsjg3AQKwyN"
      }
    },
    {
      "cell_type": "code",
      "source": [
        "y_pred_2 = np.arange(50) / 50\n",
        "y_true_2 = np.array(\n",
        "    [0, 1, 1, 1, 1] * 3\n",
        "    + [0, 0, 1, 1, 1] * 2\n",
        "    + [0, 0, 0, 1, 1] * 2\n",
        "    + [0, 0, 0, 0, 1] * 3\n",
        ")\n",
        "roc_auc_score(y_true_2, y_pred_2)"
      ],
      "metadata": {
        "colab": {
          "base_uri": "https://localhost:8080/"
        },
        "id": "qmPUs1t9w6OA",
        "outputId": "e569df14-1e7f-4d16-de2c-ead0939743bd"
      },
      "execution_count": 5,
      "outputs": [
        {
          "output_type": "execute_result",
          "data": {
            "text/plain": [
              "0.2704"
            ]
          },
          "metadata": {},
          "execution_count": 5
        }
      ]
    },
    {
      "cell_type": "code",
      "source": [
        "deciles = pd.qcut(y_pred_2, 10)\n",
        "for dec in deciles.categories:\n",
        "  mask = deciles == dec\n",
        "  try:\n",
        "    auc = roc_auc_score(y_true_2[mask], y_pred_2[mask])\n",
        "  except ValueError:\n",
        "    auc = np.nan\n",
        "  print(dec, auc)"
      ],
      "metadata": {
        "colab": {
          "base_uri": "https://localhost:8080/"
        },
        "id": "90HSuHo2LV3G",
        "outputId": "b745e5ec-6a66-4908-d107-8d8cdfb673c0"
      },
      "execution_count": 6,
      "outputs": [
        {
          "output_type": "stream",
          "name": "stdout",
          "text": [
            "(-0.001, 0.098] 1.0\n",
            "(0.098, 0.196] 1.0\n",
            "(0.196, 0.294] 1.0\n",
            "(0.294, 0.392] 1.0\n",
            "(0.392, 0.49] 1.0\n",
            "(0.49, 0.588] 1.0\n",
            "(0.588, 0.686] 1.0\n",
            "(0.686, 0.784] 1.0\n",
            "(0.784, 0.882] 1.0\n",
            "(0.882, 0.98] 1.0\n"
          ]
        }
      ]
    },
    {
      "cell_type": "markdown",
      "source": [
        "A quick aside: there are $10\\cdot\\binom{n/10}{2}\\sim n^2/20$ intra-decile pairs, and $\\binom{10}{2}(n/10)^2\\sim 9n^2/20$ inter-decile pairs."
      ],
      "metadata": {
        "id": "dccjLlnKIiAA"
      }
    },
    {
      "cell_type": "code",
      "source": [
        ""
      ],
      "metadata": {
        "id": "hGlKgkqPJO0_"
      },
      "execution_count": null,
      "outputs": []
    }
  ]
}