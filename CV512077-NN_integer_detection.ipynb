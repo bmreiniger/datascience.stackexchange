{
  "nbformat": 4,
  "nbformat_minor": 0,
  "metadata": {
    "colab": {
      "name": "CV512077.ipynb",
      "provenance": [],
      "authorship_tag": "ABX9TyO8CEEd79HnnYXnEi/p9NtM",
      "include_colab_link": true
    },
    "kernelspec": {
      "name": "python3",
      "display_name": "Python 3"
    }
  },
  "cells": [
    {
      "cell_type": "markdown",
      "metadata": {
        "id": "view-in-github",
        "colab_type": "text"
      },
      "source": [
        "<a href=\"https://colab.research.google.com/github/bmreiniger/datascience.stackexchange/blob/master/CV512077-NN_integer_detection.ipynb\" target=\"_parent\"><img src=\"https://colab.research.google.com/assets/colab-badge.svg\" alt=\"Open In Colab\"/></a>"
      ]
    },
    {
      "cell_type": "code",
      "metadata": {
        "id": "Slrrrg0xe3IO"
      },
      "source": [
        "from sklearn.neural_network import MLPClassifier\n",
        "from sklearn.pipeline import Pipeline\n",
        "from sklearn.preprocessing import StandardScaler\n",
        "from sklearn.model_selection import train_test_split\n",
        "import numpy as np\n"
      ],
      "execution_count": null,
      "outputs": []
    },
    {
      "cell_type": "code",
      "metadata": {
        "id": "FpYlkIM6gHsu"
      },
      "source": [
        "ints = np.hstack( (np.arange(6), np.arange(7,10)) )  # skip 6\n",
        "ints = np.hstack( (ints,) * 10)  # for balance...skl.mlp doesn't have class_weights\n",
        "other = np.random.random(100)*10\n",
        "X = np.hstack((ints, other))[:, np.newaxis]\n",
        "y = np.array([1]*len(ints) + [0]*len(other))\n",
        "w = np.array([len(other)/len(ints)]*len(ints) + [1]*len(other))\n"
      ],
      "execution_count": null,
      "outputs": []
    },
    {
      "cell_type": "code",
      "metadata": {
        "colab": {
          "base_uri": "https://localhost:8080/"
        },
        "id": "cwFnUfLhlWx2",
        "outputId": "f5f542bd-d202-490a-a15b-f69654fd2472"
      },
      "source": [
        "ints"
      ],
      "execution_count": null,
      "outputs": [
        {
          "output_type": "execute_result",
          "data": {
            "text/plain": [
              "array([0, 1, 2, 3, 4, 5, 7, 8, 9, 0, 1, 2, 3, 4, 5, 7, 8, 9, 0, 1, 2, 3,\n",
              "       4, 5, 7, 8, 9, 0, 1, 2, 3, 4, 5, 7, 8, 9, 0, 1, 2, 3, 4, 5, 7, 8,\n",
              "       9, 0, 1, 2, 3, 4, 5, 7, 8, 9, 0, 1, 2, 3, 4, 5, 7, 8, 9, 0, 1, 2,\n",
              "       3, 4, 5, 7, 8, 9, 0, 1, 2, 3, 4, 5, 7, 8, 9, 0, 1, 2, 3, 4, 5, 7,\n",
              "       8, 9])"
            ]
          },
          "metadata": {
            "tags": []
          },
          "execution_count": 34
        }
      ]
    },
    {
      "cell_type": "code",
      "metadata": {
        "id": "Llwmegp3gKSN"
      },
      "source": [
        "X_train, X_test, y_train, y_test, w_train, w_test = train_test_split(X, y, w, stratify=y, test_size=0.1)\n"
      ],
      "execution_count": null,
      "outputs": []
    },
    {
      "cell_type": "code",
      "metadata": {
        "colab": {
          "base_uri": "https://localhost:8080/"
        },
        "id": "LMiEmFDMhJ7D",
        "outputId": "f61ba631-648e-4d2e-cb30-56abb9d07e62"
      },
      "source": [
        "mlp = Pipeline([('scale', StandardScaler()), ('mlp', MLPClassifier((40, 15), solver='lbfgs', max_iter=10000, tol=0.00001, learning_rate_init=0.0001))])\n",
        "mlp.fit(X_train, y_train)\n"
      ],
      "execution_count": null,
      "outputs": [
        {
          "output_type": "execute_result",
          "data": {
            "text/plain": [
              "Pipeline(memory=None,\n",
              "         steps=[('scale',\n",
              "                 StandardScaler(copy=True, with_mean=True, with_std=True)),\n",
              "                ('mlp',\n",
              "                 MLPClassifier(activation='relu', alpha=0.0001,\n",
              "                               batch_size='auto', beta_1=0.9, beta_2=0.999,\n",
              "                               early_stopping=False, epsilon=1e-08,\n",
              "                               hidden_layer_sizes=(40, 15),\n",
              "                               learning_rate='constant',\n",
              "                               learning_rate_init=0.0001, max_fun=15000,\n",
              "                               max_iter=10000, momentum=0.9,\n",
              "                               n_iter_no_change=10, nesterovs_momentum=True,\n",
              "                               power_t=0.5, random_state=None, shuffle=True,\n",
              "                               solver='lbfgs', tol=1e-05,\n",
              "                               validation_fraction=0.1, verbose=False,\n",
              "                               warm_start=False))],\n",
              "         verbose=False)"
            ]
          },
          "metadata": {
            "tags": []
          },
          "execution_count": 59
        }
      ]
    },
    {
      "cell_type": "code",
      "metadata": {
        "colab": {
          "base_uri": "https://localhost:8080/"
        },
        "id": "JdIsBHtPkgV9",
        "outputId": "b78d7a4e-aaab-4239-8f41-c0ffdbf11397"
      },
      "source": [
        "mlp.score(X_train, y_train)"
      ],
      "execution_count": null,
      "outputs": [
        {
          "output_type": "execute_result",
          "data": {
            "text/plain": [
              "0.7953216374269005"
            ]
          },
          "metadata": {
            "tags": []
          },
          "execution_count": 60
        }
      ]
    },
    {
      "cell_type": "code",
      "metadata": {
        "colab": {
          "base_uri": "https://localhost:8080/"
        },
        "id": "NwdPC4hthRg6",
        "outputId": "79e8f35e-80a0-4066-ebea-db12292a5d4b"
      },
      "source": [
        "mlp.score(X_test, y_test)"
      ],
      "execution_count": null,
      "outputs": [
        {
          "output_type": "execute_result",
          "data": {
            "text/plain": [
              "0.6842105263157895"
            ]
          },
          "metadata": {
            "tags": []
          },
          "execution_count": 61
        }
      ]
    },
    {
      "cell_type": "code",
      "metadata": {
        "colab": {
          "base_uri": "https://localhost:8080/"
        },
        "id": "Xfs3Fwd2hTPr",
        "outputId": "58c26665-4045-40d7-8dc9-f7864f549ea1"
      },
      "source": [
        "y_test"
      ],
      "execution_count": null,
      "outputs": [
        {
          "output_type": "execute_result",
          "data": {
            "text/plain": [
              "array([1, 0, 0, 0, 0, 0])"
            ]
          },
          "metadata": {
            "tags": []
          },
          "execution_count": 69
        }
      ]
    },
    {
      "cell_type": "code",
      "metadata": {
        "colab": {
          "base_uri": "https://localhost:8080/"
        },
        "id": "efxnt5gAhVOB",
        "outputId": "f289ea05-4d7f-43d1-8c9c-453fa065502c"
      },
      "source": [
        "mlp.predict(X_test)"
      ],
      "execution_count": null,
      "outputs": [
        {
          "output_type": "execute_result",
          "data": {
            "text/plain": [
              "array([1, 1, 0, 1, 0, 0, 0, 0, 0, 0, 1, 1, 1, 0, 1, 0, 0, 1, 0])"
            ]
          },
          "metadata": {
            "tags": []
          },
          "execution_count": 15
        }
      ]
    },
    {
      "cell_type": "code",
      "metadata": {
        "colab": {
          "base_uri": "https://localhost:8080/",
          "height": 282
        },
        "id": "iGes1f0vhbA1",
        "outputId": "9c12cd89-8ba5-4c8d-b271-6788adb73365"
      },
      "source": [
        "from matplotlib import pyplot as plt\n",
        "xx = np.linspace(-3, 13, num=1000)\n",
        "yy = mlp.predict_proba(xx[:, np.newaxis])[:, 1]\n",
        "plt.plot(xx, yy)"
      ],
      "execution_count": null,
      "outputs": [
        {
          "output_type": "execute_result",
          "data": {
            "text/plain": [
              "[<matplotlib.lines.Line2D at 0x7f445fdbde10>]"
            ]
          },
          "metadata": {
            "tags": []
          },
          "execution_count": 62
        },
        {
          "output_type": "display_data",
          "data": {
            "image/png": "[encoded data removed]",
            "text/plain": [
              "<Figure size 432x288 with 1 Axes>"
            ]
          },
          "metadata": {
            "tags": [],
            "needs_background": "light"
          }
        }
      ]
    },
    {
      "cell_type": "code",
      "metadata": {
        "id": "bMgyZZs_kYHq"
      },
      "source": [
        ""
      ],
      "execution_count": null,
      "outputs": []
    }
  ]
}